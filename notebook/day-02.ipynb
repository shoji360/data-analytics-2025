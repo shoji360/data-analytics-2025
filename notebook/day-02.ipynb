{
  "cells": [
    {
      "cell_type": "markdown",
      "id": "196323fc-5228-4d6b-b207-f06cb1705f96",
      "metadata": {
        "id": "196323fc-5228-4d6b-b207-f06cb1705f96"
      },
      "source": [
        "# Day 2: データ選択・集約のための基礎的なSQL操作\n",
        "大規模なデータの管理およびそれに基づくデータ分析を行っている組織やプロジェクトでは，何かしらのデータベースマネジメントシステム（DBMS）をデータを処理している．今日，データベースは\n",
        "* [関係データベース（RDB）](https://ja.wikipedia.org/wiki/関係データベース)\n",
        "* [NoSQL](https://ja.wikipedia.org/wiki/NoSQL)（RDB以外のデータベース）\n",
        "\n",
        "に大別される．このうち，関係データベースは長い歴史があり，構造化されたデータを保存・管理・検索・集約するために現在でも広く使われている．\n",
        "\n",
        "Day 2からDay 5では，関係データベースの管理システム（DBMS）の中でも，簡単に環境が構築できる軽量なシステムである[SQLite](https://www.sqlite.org/)を用いる．SQLiteの関係データベース上に保存された架空の小売店（仮称：杏森堂）の購買データをターゲットに，Excelでは扱いきれないサイズのデータの前処理・分析を体験する．\n",
        "\n",
        "なお，Day 2からDay 5の演習で用いるデータセットは，[データサイエンス100本ノック（構造化データ加工編）](https://github.com/The-Japan-DataScientist-Society/100knocks-preprocess)で提供されているデータセットをSQLite形式に変換したものである．また，「ノック」は[データサイエンス100本ノック（構造化データ加工編）](https://github.com/The-Japan-DataScientist-Society/100knocks-preprocess)に収録されている演習課題を，本授業向けにアレンジしたものである．「課題」は完全に前任の山本が作成したものである．\n",
        "\n",
        "---"
      ]
    },
    {
      "cell_type": "markdown",
      "id": "4ac9a9b9-efc9-41cd-9996-943435e87f3f",
      "metadata": {
        "id": "4ac9a9b9-efc9-41cd-9996-943435e87f3f",
        "tags": []
      },
      "source": [
        "## SQL利用環境セットアップ\n",
        "SQLiteはWindows/Mac/LinuxどのOSでもインストールして利用することができる．本演習は環境構築の手間をできるだけ減らすために，Google Colaboratory上でSQLiteを用いる．\n",
        "\n",
        "なお，Google Colaboratory上でコードを実行するには，以下の2つの方法がある：\n",
        "* 「再生ボタン」をクリックする\n",
        "* コードが書かれたセルをクリックし，Shift + Enterキーを押す"
      ]
    },
    {
      "cell_type": "code",
      "execution_count": null,
      "id": "c05fbadc-1480-44d2-958b-95e0edf207b0",
      "metadata": {
        "id": "c05fbadc-1480-44d2-958b-95e0edf207b0"
      },
      "outputs": [],
      "source": [
        "# 現在のSQLiteのバージョンを確認\n",
        "!sqlite3 --version\n",
        "\n",
        "# SQLiteの最新バージョンをインストールするために、apt-getを使用\n",
        "!apt-get update\n",
        "!apt-get install sqlite3\n",
        "\n",
        "# SQLiteの新しいバージョンをインストールした後、バージョンを再度確認\n",
        "!sqlite3 --version"
      ]
    },
    {
      "cell_type": "code",
      "execution_count": null,
      "id": "c78212b4-bd04-4ec1-a9e5-223283db72ec",
      "metadata": {
        "id": "c78212b4-bd04-4ec1-a9e5-223283db72ec"
      },
      "outputs": [],
      "source": [
        "# ipython-sqlがインストールされていない場合\n",
        "!pip install ipython-sql"
      ]
    },
    {
      "cell_type": "markdown",
      "id": "2c829bbe-6c14-4c09-93c5-f728a483ecf7",
      "metadata": {
        "id": "2c829bbe-6c14-4c09-93c5-f728a483ecf7"
      },
      "source": [
        "英文が数行表示された後，SQLiteがインストールされる．\n",
        "\n",
        "続いて，演習で用いる購買データが収められたSQLiteデータベースをダウンロードしよう． 以下のコードを実行すると，Google Colaboratory上にデータベースがダウンロードされる．"
      ]
    },
    {
      "cell_type": "code",
      "execution_count": null,
      "id": "a0dc2ee8-db3e-4952-9e85-6a7da4121ce0",
      "metadata": {
        "id": "a0dc2ee8-db3e-4952-9e85-6a7da4121ce0"
      },
      "outputs": [],
      "source": [
        "# SQLiteデータベース（data-analytics-lecture.db）のファイルをダウンロード\n",
        "import os\n",
        "if not os.path.exists('data/data-analytics-lecture.db'):\n",
        "    !wget -P data -analytics-lecture.db https://github.com/shoji360/data-analytics-2024/raw/main/data/data-analytics-lecture.db"
      ]
    },
    {
      "cell_type": "markdown",
      "id": "f0212ff4-4d90-4d5c-a771-db596c52b4fe",
      "metadata": {
        "id": "f0212ff4-4d90-4d5c-a771-db596c52b4fe"
      },
      "source": [
        "データベースがダウンロードできたら，データをロードしておこう．\n",
        "以下のコードを実行すると，Google Colaboratory上でダウンロードしたSQLiteデータベースを操作できるようになる．"
      ]
    },
    {
      "cell_type": "code",
      "execution_count": null,
      "id": "21587696-ca70-480b-ae47-102891eaff05",
      "metadata": {
        "id": "21587696-ca70-480b-ae47-102891eaff05"
      },
      "outputs": [],
      "source": [
        "%load_ext sql\n",
        "%sql sqlite:///data/data-analytics-lecture.db"
      ]
    },
    {
      "cell_type": "markdown",
      "id": "4d348c88-d2f0-4e20-853c-abb181fff393",
      "metadata": {
        "id": "4d348c88-d2f0-4e20-853c-abb181fff393"
      },
      "source": [
        "なお，Google Colaboratoryはセッションを閉じると，環境が初期化され，以前に自前でインストールしたライブラリが削除される．\n",
        "\n",
        "**Google Colaboratoryを使って演習に取り組む際には，上記コードを毎回忘れず実行しよう．**"
      ]
    },
    {
      "cell_type": "markdown",
      "id": "1bf1c678-a3cf-47b6-93b0-1e9bdee3cceb",
      "metadata": {
        "id": "1bf1c678-a3cf-47b6-93b0-1e9bdee3cceb"
      },
      "source": [
        "---"
      ]
    },
    {
      "cell_type": "markdown",
      "id": "353af69a-bc3e-47d1-b121-a6a3f6cb729a",
      "metadata": {
        "id": "353af69a-bc3e-47d1-b121-a6a3f6cb729a"
      },
      "source": [
        "## Google Colaboratory上でのSQLの実行方法"
      ]
    },
    {
      "cell_type": "markdown",
      "id": "fea4a041-7fc1-4a06-a234-b3a0b765e943",
      "metadata": {
        "id": "fea4a041-7fc1-4a06-a234-b3a0b765e943",
        "tags": []
      },
      "source": [
        "Google Colaboratoryでは，以下のようにセルの冒頭に`%%sql`と書き，2行目以降にSQL文を書くとSQLを実行することができる．\n",
        "試しに以下のSQLを実行してみよう．"
      ]
    },
    {
      "cell_type": "code",
      "execution_count": null,
      "id": "1dc24550-56d2-4726-9ead-62bde28d305e",
      "metadata": {
        "id": "1dc24550-56d2-4726-9ead-62bde28d305e"
      },
      "outputs": [],
      "source": [
        "%%sql\n",
        "\n",
        "SELECT\n",
        "    name AS table_name\n",
        "FROM\n",
        "    sqlite_master\n",
        "WHERE\n",
        "    type = 'table';"
      ]
    },
    {
      "cell_type": "markdown",
      "id": "bc21e2e4-3090-4aa1-9add-b249f2f56179",
      "metadata": {
        "id": "bc21e2e4-3090-4aa1-9add-b249f2f56179"
      },
      "source": [
        "上記SQLは，データベースに格納されたテーブルの一覧を表示するものである．\n",
        "ダウンロードしたSQLiteデータベース，つまり今回扱う杏森堂のデータベースには，**6つ**のテーブルが格納されていることが分かる．なお，対象データベースの構造が記された実体関連図（ER図）は[コチラ](https://github.com/shoji360/data-analytics-2024/raw/main/doc/ER-diagram.pdf)から確認することできる．\n",
        "\n",
        "課題とドリルに取り組む前に，あと1つ，別のSQLを実行してみよう．\n",
        "以下のSQLを実行すると，`receipt`テーブルの最初の10件を表示することができる\n",
        "（SQL文に`LIMIT`を付けないと，テーブル内の全データが表示されてしまうので注意）．"
      ]
    },
    {
      "cell_type": "code",
      "execution_count": null,
      "id": "75ac62a6-ee1e-416f-a20e-041169dbfdb3",
      "metadata": {
        "id": "75ac62a6-ee1e-416f-a20e-041169dbfdb3"
      },
      "outputs": [],
      "source": [
        "%%sql\n",
        "\n",
        "SELECT * FROM receipt LIMIT 10;"
      ]
    },
    {
      "cell_type": "markdown",
      "id": "_REuYODhfJ_P",
      "metadata": {
        "id": "_REuYODhfJ_P"
      },
      "source": [
        "\n",
        "---\n",
        "# ノックや課題に、入る前に･･･\n",
        "- データベースにアクセスできるようになったら、真っ先にやること：\n",
        "  - **「データの中を、散歩してみる」**\n",
        "- 基礎的な命令を使って、実際にDB内がどうなっているかをのぞいてみよう！\n",
        "  - どんなテーブルがある？\n",
        "  - 各テーブルには、どんな列がある？\n",
        "  - 各テーブルには、何件くらいのデータがある？\n",
        "  - どんなインデックスが貼られている？\n",
        "- 分析とか言う前の、お約束！どんなデータか知らないと、そもそも分析とか言ってられない！"
      ]
    },
    {
      "cell_type": "markdown",
      "id": "M6g8TNtHg27f",
      "metadata": {
        "id": "M6g8TNtHg27f"
      },
      "source": [
        "## テーブルの一覧を見てみる\n",
        "- DBの管理ファイルもDBで管理されているので、select文で見られる\n",
        "- ``` SELECT name FROM sqlite_master WHERE type = 'table'; ```"
      ]
    },
    {
      "cell_type": "code",
      "execution_count": null,
      "id": "VnJeL5DQhI5H",
      "metadata": {
        "id": "VnJeL5DQhI5H"
      },
      "outputs": [],
      "source": [
        "%%sql\n",
        "SELECT name FROM sqlite_master WHERE type = 'table';"
      ]
    },
    {
      "cell_type": "markdown",
      "id": "KdabY-nQhOwa",
      "metadata": {
        "id": "KdabY-nQhOwa"
      },
      "source": [
        "## 1つ目のテーブル「category」内の列を見てみる\n",
        "- 「PRAGMA」という、やや特殊な命令を使う\n",
        "  - ここら辺の処理は、使うDBMSによって方言がある！\n",
        "  - MySQLとは違うので注意\n",
        "- ``` PRAGMA table_info('category'); ```"
      ]
    },
    {
      "cell_type": "code",
      "execution_count": null,
      "id": "UM3uJUE7f9rN",
      "metadata": {
        "id": "UM3uJUE7f9rN"
      },
      "outputs": [],
      "source": [
        "%%sql\n",
        "\n",
        "PRAGMA table_info('category');"
      ]
    },
    {
      "cell_type": "markdown",
      "id": "LJN0GTyBh2DP",
      "metadata": {
        "id": "LJN0GTyBh2DP"
      },
      "source": [
        "## categoryの中身を、実際に見てみる\n",
        "- ふつうの「select文」を、いよいよ使ってみる\n",
        "- `select * from category limit 50;`\n",
        "  - limitをつけ忘れないよう注意\n",
        "  - （最悪の場合、ノートブックが壊れて、最初からやり直した方が早くなる）"
      ]
    },
    {
      "cell_type": "code",
      "execution_count": null,
      "id": "z0YQgcYYiIx5",
      "metadata": {
        "id": "z0YQgcYYiIx5"
      },
      "outputs": [],
      "source": [
        "%%sql\n",
        "\n",
        "select * from category limit 50;"
      ]
    },
    {
      "cell_type": "markdown",
      "id": "EjEWNBQjirrY",
      "metadata": {
        "id": "EjEWNBQjirrY"
      },
      "source": [
        "## categoryテーブルに登録されたデータの数を見てみる\n",
        "- count関数を使ってみる\n",
        "- ``` select count(*) from category; ```\n"
      ]
    },
    {
      "cell_type": "code",
      "execution_count": null,
      "id": "hJB9P0_Yi73z",
      "metadata": {
        "id": "hJB9P0_Yi73z"
      },
      "outputs": [],
      "source": [
        "%%sql\n",
        "\n",
        "select count(*) from category;"
      ]
    },
    {
      "cell_type": "markdown",
      "id": "RfxxlZsfjERR",
      "metadata": {
        "id": "RfxxlZsfjERR"
      },
      "source": [
        "# ･･･このようなことを繰り返して、まずはこのDBの構造を把握しましょう！"
      ]
    },
    {
      "cell_type": "markdown",
      "id": "5a2f62a3-771a-4c6c-98e4-e898da8c9e47",
      "metadata": {
        "id": "5a2f62a3-771a-4c6c-98e4-e898da8c9e47"
      },
      "source": [
        "---\n",
        "## 課題1\n",
        "データベースを整備した杏森堂から，再度データ分析の依頼を受けたとする．\n",
        "購買履歴が格納されたデータベースを用いて，これまでに何名の顧客が何回（何日）ショッピングを行ったのかを分析したい．\n",
        "\n",
        "レシート明細テーブル（`receipt`）を用いて顧客の購買頻度を分析し，以下の項目について分析結果を表示するためのSQLを書き，実行結果とともに示しなさい：\n",
        "* 購買頻度（これまでに店舗を利用した日数）\n",
        "* 購買頻度に対応する顧客の数\n",
        "* 該当する購買頻度以下の顧客数の累積値\n",
        "\n",
        "ただし，顧客ID（`customer_id`）が\"Z\"から始まるのものは非会員を表すため，除外して分析すること．\n",
        "\n",
        "\n",
        "※ 以下は，SQL実行結果のイメージである：\n",
        "\n",
        "| 購買頻度（日数） | 購買頻度に対応する顧客の数 | 顧客数累積値 |\n",
        "| ---- | ---- | ---- |\n",
        "| 1 | 2761 | 2761 |\n",
        "| 2 | 1499 | 4260 |\n",
        "| 3 | 881 | 5141 |\n",
        "| ... | ... | ... |"
      ]
    },
    {
      "cell_type": "code",
      "execution_count": null,
      "id": "eb360139-a8bb-49af-9ac5-c6bb00e98383",
      "metadata": {
        "id": "eb360139-a8bb-49af-9ac5-c6bb00e98383"
      },
      "outputs": [],
      "source": [
        "%%sql\n"
      ]
    },
    {
      "cell_type": "markdown",
      "id": "41afa318-a4a0-4ed1-b3ce-266d18445849",
      "metadata": {
        "id": "41afa318-a4a0-4ed1-b3ce-266d18445849"
      },
      "source": [
        "---\n",
        "## ノック\n",
        "以下は，上記課題を解くための要素を学ぶことができるクイズである．課題を解くためのスキルを着実に習得したい人は，以下のノックを順次解いてみよう．ノックの解説は授業中に行う．"
      ]
    },
    {
      "cell_type": "markdown",
      "id": "b24e0af9-5895-422c-96db-5919668497bf",
      "metadata": {
        "id": "b24e0af9-5895-422c-96db-5919668497bf"
      },
      "source": [
        "### Knock 11: 選択\n",
        "レシート明細のテーブル（`receipt`）から全項目の先頭10件を表示し，どのようなレコードが保存されているか確認せよ．"
      ]
    },
    {
      "cell_type": "code",
      "execution_count": null,
      "id": "aae12335-056b-4f3b-9e7c-8cb96474e1fa",
      "metadata": {
        "id": "aae12335-056b-4f3b-9e7c-8cb96474e1fa"
      },
      "outputs": [],
      "source": [
        "%%sql\n",
        "\n",
        "SELECT * FROM receipt LIMIT 10;"
      ]
    },
    {
      "cell_type": "markdown",
      "id": "1a83af9d-fb17-4b7a-87ce-76da3529257e",
      "metadata": {
        "id": "1a83af9d-fb17-4b7a-87ce-76da3529257e"
      },
      "source": [
        "### Knock 12: 射影1\n",
        "レシート明細のテーブル（`receipt`）から売上日（`sales_ymd`），顧客ID（`customer_id`），商品コード（`product_cd`），売上金額（`amount`）の順に列を指定し，10件レコードを表示せよ．"
      ]
    },
    {
      "cell_type": "code",
      "execution_count": null,
      "id": "07659948-c6f2-4a37-a20f-368a51c39f0a",
      "metadata": {
        "id": "07659948-c6f2-4a37-a20f-368a51c39f0a"
      },
      "outputs": [],
      "source": [
        "%%sql\n",
        "\n"
      ]
    },
    {
      "cell_type": "markdown",
      "id": "7f5939b3-5c88-4c90-8ec9-ca1b65f1dd0e",
      "metadata": {
        "id": "7f5939b3-5c88-4c90-8ec9-ca1b65f1dd0e"
      },
      "source": [
        "### Knock 13: 射影2\n",
        "レシート明細のテーブル（`receipt`）から売上日（`sales_ymd`），顧客ID（`customer_id`），商品コード（`product_cd`），売上金額（`amount`）の順に列を指定し，10件レコードを表示せよ．ただし，列`sales_ymd`は列名を`sales_date`に変更して表示すること．"
      ]
    },
    {
      "cell_type": "code",
      "execution_count": null,
      "id": "65b7dd40-66bb-443b-a668-db88dba40a26",
      "metadata": {
        "id": "65b7dd40-66bb-443b-a668-db88dba40a26"
      },
      "outputs": [],
      "source": [
        "%%sql\n",
        "\n"
      ]
    },
    {
      "cell_type": "markdown",
      "id": "e92f8dd6-10f9-4a93-a8d5-c8a7ecd1165b",
      "metadata": {
        "id": "e92f8dd6-10f9-4a93-a8d5-c8a7ecd1165b"
      },
      "source": [
        "### Knock 14: 選択2\n",
        "レシート明細のテーブル（`receipt`）から売上日（`sales_ymd`），顧客ID（`customer_id`），商品コード（`product_cd`），売上金額（`amount`）の順に列を指定し，以下の条件を満たすレコードをすべて抽出せよ．\n",
        "\n",
        "* 顧客IDが\"CS018205000001\""
      ]
    },
    {
      "cell_type": "code",
      "execution_count": null,
      "id": "cda2a730-9c36-48c8-a394-d227e807082b",
      "metadata": {
        "id": "cda2a730-9c36-48c8-a394-d227e807082b"
      },
      "outputs": [],
      "source": [
        "%%sql\n",
        "\n",
        "SELECT\n",
        "    sales_ymd,\n",
        "    customer_id,\n",
        "    product_cd,\n",
        "    amount\n",
        "FROM\n",
        "    receipt\n",
        "WHERE\n",
        "    customer_id = \"CS018205000001\""
      ]
    },
    {
      "cell_type": "markdown",
      "id": "4ea9a4b0-2a97-4491-afb9-8d8d03ed2b41",
      "metadata": {
        "id": "4ea9a4b0-2a97-4491-afb9-8d8d03ed2b41"
      },
      "source": [
        "### Knock 15: 選択3\n",
        "レシート明細のテーブル（`receipt`）から売上日（`sales_ymd`），顧客ID（`customer_id`），商品コード（`product_cd`），売上金額（`amount`）の順に列を指定し，以下の条件を満たすレコードをすべて抽出せよ．\n",
        "\n",
        "* 顧客IDが\"CS018205000001\"\n",
        "* 売上金額が1000以上"
      ]
    },
    {
      "cell_type": "code",
      "execution_count": null,
      "id": "f092a8f2-8afe-4ace-84c8-db6ebf9ff8c9",
      "metadata": {
        "id": "f092a8f2-8afe-4ace-84c8-db6ebf9ff8c9"
      },
      "outputs": [],
      "source": [
        "%%sql\n",
        "\n"
      ]
    },
    {
      "cell_type": "markdown",
      "id": "338439b8-0b41-4cf6-ac5d-754faae32d84",
      "metadata": {
        "id": "338439b8-0b41-4cf6-ac5d-754faae32d84",
        "tags": []
      },
      "source": [
        "### Knock 16: 選択4\n",
        "レシート明細のテーブル（`receipt`）から売上日（`sales_ymd`），顧客ID（`customer_id`），商品コード（`product_cd`），売上数量（`quantity`），売上金額（`amount`）の順に列を指定し，以下の条件を満たすレコードをすべて抽出せよ．\n",
        "\n",
        "* 顧客IDが\"CS018205000001\"\n",
        "* 売上金額が1000以上または売上数量が5以上"
      ]
    },
    {
      "cell_type": "code",
      "execution_count": null,
      "id": "24b8f1d2-5d53-4fb9-9499-7ac40fefd651",
      "metadata": {
        "id": "24b8f1d2-5d53-4fb9-9499-7ac40fefd651"
      },
      "outputs": [],
      "source": [
        "%%sql\n",
        "\n"
      ]
    },
    {
      "cell_type": "markdown",
      "id": "2c2ade82-96d9-4005-8e72-3c6445e44a60",
      "metadata": {
        "id": "2c2ade82-96d9-4005-8e72-3c6445e44a60",
        "tags": []
      },
      "source": [
        "### Knock 17: 選択5\n",
        "レシート明細のテーブル（`receipt`）から売上日（`sales_ymd`），顧客ID（`customer_id`），商品コード（`product_cd`），売上金額（`amount`）の順に列を指定し，以下の条件を満たすレコードをすべて抽出せよ．\n",
        "\n",
        "* 顧客IDが\"CS018205000001\"\n",
        "* 売上金額が1000以上2000以下"
      ]
    },
    {
      "cell_type": "code",
      "execution_count": null,
      "id": "2ec0a6e2-0324-4e3d-b429-65d5b9644a6c",
      "metadata": {
        "id": "2ec0a6e2-0324-4e3d-b429-65d5b9644a6c"
      },
      "outputs": [],
      "source": [
        "%%sql\n",
        "\n"
      ]
    },
    {
      "cell_type": "markdown",
      "id": "48714089-2ffd-4723-bd6e-5444e35a1e30",
      "metadata": {
        "id": "48714089-2ffd-4723-bd6e-5444e35a1e30",
        "tags": []
      },
      "source": [
        "### Knock 18: 選択6\n",
        "レシート明細のテーブル（`receipt`）から売上日（`sales_ymd`），顧客ID（`customer_id`），商品コード（`product_cd`），売上金額（`amount`）の順に列を指定し，以下の条件を満たすレコードをすべて抽出せよ．\n",
        "\n",
        "* 顧客IDが\"CS018205000001\"\n",
        "* 商品コードが\"P071401019\"以外"
      ]
    },
    {
      "cell_type": "code",
      "execution_count": null,
      "id": "fac124da-2ad3-46e8-b7e8-70ff6b8627bb",
      "metadata": {
        "id": "fac124da-2ad3-46e8-b7e8-70ff6b8627bb"
      },
      "outputs": [],
      "source": [
        "%%sql\n",
        "\n"
      ]
    },
    {
      "cell_type": "markdown",
      "id": "cc3b2bca-c096-4dfc-bb9c-f66eff3bea42",
      "metadata": {
        "id": "cc3b2bca-c096-4dfc-bb9c-f66eff3bea42",
        "tags": []
      },
      "source": [
        "### Knock 19: 選択7\n",
        "下記SQL文について，問い合わせ結果が変わらないよう`OR`を`AND`に書き換えよ．\n",
        "\n",
        "```\n",
        "SELECT\n",
        "    *\n",
        "FROM\n",
        "    store\n",
        "WHERE\n",
        "    NOT (prefecture_cd == 13 OR floor_area > 900);\n",
        "```"
      ]
    },
    {
      "cell_type": "code",
      "execution_count": null,
      "id": "c9faa0ec-30f0-4d67-aaa4-14f06fe5330a",
      "metadata": {
        "id": "c9faa0ec-30f0-4d67-aaa4-14f06fe5330a"
      },
      "outputs": [],
      "source": [
        "%%sql\n",
        "\n"
      ]
    },
    {
      "cell_type": "markdown",
      "id": "cb0163ee-7c41-4d45-92b2-4640b037c808",
      "metadata": {
        "id": "cb0163ee-7c41-4d45-92b2-4640b037c808",
        "tags": []
      },
      "source": [
        "### Knock 20: LIKE句1\n",
        "店舗テーブル（`store`）から，店舗コード（`store_cd`）が\"S14\"で始まるものだけを全項目抽出し，10件だけ表示せよ．"
      ]
    },
    {
      "cell_type": "code",
      "execution_count": null,
      "id": "d29f0acf-8579-4283-a0c2-1914385a4a51",
      "metadata": {
        "id": "d29f0acf-8579-4283-a0c2-1914385a4a51"
      },
      "outputs": [],
      "source": [
        "%%sql\n",
        "\n"
      ]
    },
    {
      "cell_type": "markdown",
      "id": "dd1bd384-e901-413e-a500-74f6807b6998",
      "metadata": {
        "id": "dd1bd384-e901-413e-a500-74f6807b6998",
        "tags": []
      },
      "source": [
        "### Knock 21: LIKE句2\n",
        "店舗テーブル（`store`）から横浜市の店舗だけを全項目表示せよ．"
      ]
    },
    {
      "cell_type": "code",
      "execution_count": null,
      "id": "9e53c79e-38e2-48c0-a0e4-04a00615b58d",
      "metadata": {
        "id": "9e53c79e-38e2-48c0-a0e4-04a00615b58d"
      },
      "outputs": [],
      "source": [
        "%%sql\n",
        "\n"
      ]
    },
    {
      "cell_type": "markdown",
      "id": "653f48ae-6ed2-48b1-b4e1-f642d5b173ed",
      "metadata": {
        "id": "653f48ae-6ed2-48b1-b4e1-f642d5b173ed",
        "tags": []
      },
      "source": [
        "### Knock 22: 正規表現1\n",
        "顧客テーブル（`customer`）から，ステータスコード（`status_cd`）の先頭がアルファベットのA〜Fで始まるデータを全項目抽出し，10件だけ表示せよ．"
      ]
    },
    {
      "cell_type": "code",
      "execution_count": null,
      "id": "d8bb9fb1-d6fb-4437-9ce1-0f4782645de9",
      "metadata": {
        "id": "d8bb9fb1-d6fb-4437-9ce1-0f4782645de9"
      },
      "outputs": [],
      "source": [
        "%%sql\n",
        "\n"
      ]
    },
    {
      "cell_type": "markdown",
      "id": "5166eb86-983f-448d-b910-43085a4214a2",
      "metadata": {
        "id": "5166eb86-983f-448d-b910-43085a4214a2",
        "tags": []
      },
      "source": [
        "### Knock 23: 正規表現2\n",
        "顧客テーブル（`customer`）から，ステータスコード（`status_cd`）の末尾が数字の1〜9で終わるデータを全項目抽出し，10件だけ表示せよ．"
      ]
    },
    {
      "cell_type": "code",
      "execution_count": null,
      "id": "bc146a54-69db-48de-8178-83c43d41dc8b",
      "metadata": {
        "id": "bc146a54-69db-48de-8178-83c43d41dc8b"
      },
      "outputs": [],
      "source": [
        "%%sql\n",
        "\n"
      ]
    },
    {
      "cell_type": "markdown",
      "id": "73b89515-602b-4271-89e4-70f16f8d9cc3",
      "metadata": {
        "id": "73b89515-602b-4271-89e4-70f16f8d9cc3",
        "tags": []
      },
      "source": [
        "### Knock 24: 正規表現3\n",
        "顧客テーブル（`customer`）から，ステータスコード（`status_cd`）の先頭がアルファベットのA〜Fで始まり，末尾が数字の1〜9で終わるデータを全項目抽出し，10件だけ表示せよ．"
      ]
    },
    {
      "cell_type": "code",
      "execution_count": null,
      "id": "642e5fa1-e4c6-4755-bcc4-fa9d3d1ece96",
      "metadata": {
        "id": "642e5fa1-e4c6-4755-bcc4-fa9d3d1ece96"
      },
      "outputs": [],
      "source": [
        "%%sql\n",
        "\n"
      ]
    },
    {
      "cell_type": "markdown",
      "id": "14bf7fea-6ada-48cc-81dc-343ea009ceb3",
      "metadata": {
        "id": "14bf7fea-6ada-48cc-81dc-343ea009ceb3",
        "tags": []
      },
      "source": [
        "### Knock 25: ソート1\n",
        "顧客テーブル（`customer`）のレコードを高年齢順にソートし，先頭10レコードを前項目表示せよ．"
      ]
    },
    {
      "cell_type": "code",
      "execution_count": null,
      "id": "1ff75a0a-017f-4a7f-84f5-1424eb60b81e",
      "metadata": {
        "id": "1ff75a0a-017f-4a7f-84f5-1424eb60b81e"
      },
      "outputs": [],
      "source": [
        "%%sql\n"
      ]
    },
    {
      "cell_type": "markdown",
      "id": "07df6b22-3c38-43d3-83fa-42950a625403",
      "metadata": {
        "id": "07df6b22-3c38-43d3-83fa-42950a625403",
        "tags": []
      },
      "source": [
        "### Knock 26: ソート2\n",
        "顧客テーブル（`customer`）のレコードを若い順（同じ年齢の場合は誕生日が遅い順）にソートし，先頭10レコードを前項目表示せよ．"
      ]
    },
    {
      "cell_type": "code",
      "execution_count": null,
      "id": "8db63aa1-e11c-4a40-970d-c6fcffbb499e",
      "metadata": {
        "id": "8db63aa1-e11c-4a40-970d-c6fcffbb499e"
      },
      "outputs": [],
      "source": [
        "%%sql\n",
        "\n"
      ]
    },
    {
      "cell_type": "markdown",
      "id": "fe680ed2-a18c-4290-a01b-cc50c3b6b14e",
      "metadata": {
        "id": "fe680ed2-a18c-4290-a01b-cc50c3b6b14e",
        "tags": []
      },
      "source": [
        "### Knock 27: 集計1\n",
        "レシート明細テーブル（`receipt`）のレコード数を求めよ．"
      ]
    },
    {
      "cell_type": "code",
      "execution_count": null,
      "id": "d0473565-744b-406d-bc1a-506ac33b88a3",
      "metadata": {
        "id": "d0473565-744b-406d-bc1a-506ac33b88a3"
      },
      "outputs": [],
      "source": [
        "%%sql\n",
        "\n"
      ]
    },
    {
      "cell_type": "markdown",
      "id": "c577597e-2f2a-4a6d-8a6d-cec50553fac4",
      "metadata": {
        "id": "c577597e-2f2a-4a6d-8a6d-cec50553fac4",
        "tags": []
      },
      "source": [
        "### Knock 28: 集計2\n",
        "レシート明細テーブル（`receipt`）中の顧客ID（`customer_id`）の総数（重複を除く）を求めよ．"
      ]
    },
    {
      "cell_type": "code",
      "execution_count": null,
      "id": "c3f3b007-4a2e-4c08-bba9-12777cfe4107",
      "metadata": {
        "id": "c3f3b007-4a2e-4c08-bba9-12777cfe4107"
      },
      "outputs": [],
      "source": [
        "%%sql\n",
        "\n"
      ]
    },
    {
      "cell_type": "markdown",
      "id": "ca0b7866-be7a-4bdb-aa3e-4ad9e969d76c",
      "metadata": {
        "id": "ca0b7866-be7a-4bdb-aa3e-4ad9e969d76c",
        "tags": []
      },
      "source": [
        "### Knock 29: 集約演算1\n",
        "レシート明細テーブル（`receipt`）に対し，店舗コード（`store_cd`）ごとに売上金額の合計（`total_amount`）と売上数量の合計（`total_quantity`）を計算し表示せよ．なお，表示件数は先頭の10件でよい．\n",
        "\n"
      ]
    },
    {
      "cell_type": "code",
      "execution_count": null,
      "id": "b24569c1-0db5-40ba-8475-fb0515e9cb5e",
      "metadata": {
        "id": "b24569c1-0db5-40ba-8475-fb0515e9cb5e"
      },
      "outputs": [],
      "source": [
        "%%sql\n",
        "\n"
      ]
    },
    {
      "cell_type": "markdown",
      "id": "e4c45022-8d2a-441f-8095-a6ec10f0fd22",
      "metadata": {
        "id": "e4c45022-8d2a-441f-8095-a6ec10f0fd22",
        "tags": []
      },
      "source": [
        "### Knock 30: 集約演算2\n",
        "レシート明細テーブル（`receipt`）に対し，顧客ID（`customer_id`）ごとに最も新しい売上日と最も古い売り上げ日を求め，それらが異なる顧客IDを10件表示せよ．なお，表示項目は顧客IDと最も新しい売り上げ日（`latest_sales_ymd`），最も古い売り上げ日（`oldest_sales_ymd`）とする．"
      ]
    },
    {
      "cell_type": "code",
      "execution_count": null,
      "id": "d6af7d83-a6ee-4580-9117-e0ef9a3a7d9e",
      "metadata": {
        "id": "d6af7d83-a6ee-4580-9117-e0ef9a3a7d9e"
      },
      "outputs": [],
      "source": [
        "%%sql\n",
        "\n"
      ]
    },
    {
      "cell_type": "markdown",
      "id": "4941f162-344b-4a1a-9c2e-5ecf4ce45cc5",
      "metadata": {
        "id": "4941f162-344b-4a1a-9c2e-5ecf4ce45cc5",
        "tags": []
      },
      "source": [
        "### Knock 31: 集約演算3\n",
        "レシート明細テーブル（`receipt`）に対し，店舗コード（`store_cd`）ごとに売上金額（`amount`）の平均を計算し，平均売り上げ金額の上位5件の店舗を表示せよ．"
      ]
    },
    {
      "cell_type": "code",
      "execution_count": null,
      "id": "41f13b09-4042-494d-911e-94bf5dd06b94",
      "metadata": {
        "id": "41f13b09-4042-494d-911e-94bf5dd06b94"
      },
      "outputs": [],
      "source": [
        "%%sql\n",
        "\n"
      ]
    },
    {
      "cell_type": "markdown",
      "id": "a442bad4-f3bc-452e-9072-2ba0369a738e",
      "metadata": {
        "id": "a442bad4-f3bc-452e-9072-2ba0369a738e",
        "tags": []
      },
      "source": [
        "### Knock 32: 集約演算4\n",
        "レシート明細テーブル（`receipt`）に対し，店舗コード（`store_cd`）ごとに売上金額（`amount`）の総額を計算し，売り上げ総額が800,000以上の店舗を表示せよ．"
      ]
    },
    {
      "cell_type": "code",
      "execution_count": null,
      "id": "2baae972-4de9-4654-8b58-b71e79194b2a",
      "metadata": {
        "id": "2baae972-4de9-4654-8b58-b71e79194b2a"
      },
      "outputs": [],
      "source": [
        "%%sql\n",
        "\n"
      ]
    },
    {
      "cell_type": "markdown",
      "id": "3c9bff80-8561-4402-9295-bcba4e388f6e",
      "metadata": {
        "id": "3c9bff80-8561-4402-9295-bcba4e388f6e",
        "tags": []
      },
      "source": [
        "### Knock 33: Window関数1\n",
        "レシート明細テーブル（`receipt`）の各レコードに対して売上金額（`amount`）が高い順にランク（順位）を付与し，先頭10件を抽出せよ．その際，項目として顧客ID（`customer_id`），売上金額（`amount`），付与したランクを表示させること．なお，売上金額が等しい場合は，同一順位を付与するものとする．\n"
      ]
    },
    {
      "cell_type": "code",
      "execution_count": null,
      "id": "dda535e4-c047-49c7-9155-85a5565399fb",
      "metadata": {
        "id": "dda535e4-c047-49c7-9155-85a5565399fb"
      },
      "outputs": [],
      "source": [
        "%%sql\n",
        "\n"
      ]
    },
    {
      "cell_type": "markdown",
      "id": "5079a616-8f13-4baf-bf20-cae8b1460f1e",
      "metadata": {
        "id": "5079a616-8f13-4baf-bf20-cae8b1460f1e",
        "tags": []
      },
      "source": [
        "### Knock 34: Window関数2\n",
        "レシート明細テーブル（`receipt`）の各レコードに対して売上金額（`amount`）が高い順にランク（順位）を付与し，先頭10件を抽出せよ．その際，項目として顧客ID（`customer_id`），売上金額（`amount`），付与したランクを表示させること．なお，売上金額が等しい場合は抜け番にせず，異なるランクを付与するものとする．"
      ]
    },
    {
      "cell_type": "code",
      "execution_count": null,
      "id": "55190375-7410-4401-a088-bf3ed7757079",
      "metadata": {
        "id": "55190375-7410-4401-a088-bf3ed7757079"
      },
      "outputs": [],
      "source": [
        "%%sql\n",
        "\n"
      ]
    },
    {
      "cell_type": "markdown",
      "id": "c2c9ac3f-fce2-4b5b-be34-69424d85226f",
      "metadata": {
        "id": "c2c9ac3f-fce2-4b5b-be34-69424d85226f",
        "tags": []
      },
      "source": [
        "### Knock 35: Window関数3\n",
        "レシート明細テーブル（`receipt`）から顧客ID（`customer_id`）が`CS040214000008`のレコードのみを取り出し，購買日（`sales_ymd`）でソートした上で以下の項目を表示せよ：\n",
        "* 購買日（`sales_ymd`）\n",
        "* その日の売上総額（`amount`）\n",
        "* 全期間を通した当該顧客の売上総額（`total_amount`）\n",
        "\n",
        "なお，表示件数は先頭の10件のみでよい．"
      ]
    },
    {
      "cell_type": "code",
      "execution_count": null,
      "id": "1b1ecc71-8cef-492f-9ada-ccbb52c96a8a",
      "metadata": {
        "id": "1b1ecc71-8cef-492f-9ada-ccbb52c96a8a"
      },
      "outputs": [],
      "source": [
        "%%sql\n",
        "\n"
      ]
    },
    {
      "cell_type": "markdown",
      "id": "d4930f7c-715a-475d-9c42-8d27cb4320a7",
      "metadata": {
        "id": "d4930f7c-715a-475d-9c42-8d27cb4320a7",
        "tags": []
      },
      "source": [
        "### Knock 36: Window関数4\n",
        "レシート明細テーブル（`receipt`）から顧客ID（`customer_id`）が`CS040214000008`のレコードのみを取り出し，購買日（`sales_ymd`）でソートした上で以下の項目を表示せよ：\n",
        "* 購買日（`sales_ymd`）\n",
        "* その日の売上総額（`amount`）\n",
        "* その日までの売上の累積値（`cumulative_total_amount`）\n",
        "\n",
        "なお，表示件数は先頭の10件のみでよい．"
      ]
    },
    {
      "cell_type": "code",
      "execution_count": null,
      "id": "8224ea89-5187-49bb-9da2-ceeb631806ac",
      "metadata": {
        "id": "8224ea89-5187-49bb-9da2-ceeb631806ac"
      },
      "outputs": [],
      "source": [
        "%%sql\n",
        "\n"
      ]
    },
    {
      "cell_type": "markdown",
      "id": "1f93e5e1-309c-44ba-a9cd-9b69abfbac4b",
      "metadata": {
        "id": "1f93e5e1-309c-44ba-a9cd-9b69abfbac4b",
        "tags": []
      },
      "source": [
        "### Knock 37: 副問い合わせ1\n",
        "レシート明細テーブル（`receipt`）を利用して顧客ID（`customer_id`）ごとの売上総額を計算し，その平均（`avg_total_amount`）を求めよ．ただし，顧客IDが\"Z\"から始まるのものは非会員を表すため，除外して計算すること．"
      ]
    },
    {
      "cell_type": "code",
      "execution_count": null,
      "id": "a7eb36ee-439f-42db-9d1a-869ea19d9c9a",
      "metadata": {
        "id": "a7eb36ee-439f-42db-9d1a-869ea19d9c9a"
      },
      "outputs": [],
      "source": [
        "%%sql\n",
        "\n"
      ]
    },
    {
      "cell_type": "markdown",
      "id": "05ad8ace-2f11-4060-958f-0647121baa63",
      "metadata": {
        "id": "05ad8ace-2f11-4060-958f-0647121baa63"
      },
      "source": [
        "### Knock 38: 副問い合わせ2\n",
        "レシート明細テーブル（`receipt`）を利用して全商品の中で売上総額が上位3位の商品コード（`product_cd`）を求め，各店舗（`store_cd`）における3つの商品の売上総額を求めよ．なお，結果は`store_cd`列でソートして表示すること．なお，このノックでは`WITH句`を用いよ．表示件数は30件でよい．"
      ]
    },
    {
      "cell_type": "code",
      "execution_count": null,
      "id": "3cfb12b3-e6c9-4a3f-98a2-906905a85f96",
      "metadata": {
        "id": "3cfb12b3-e6c9-4a3f-98a2-906905a85f96"
      },
      "outputs": [],
      "source": [
        "%%sql\n",
        "\n"
      ]
    },
    {
      "cell_type": "markdown",
      "id": "99e25a6a-f2c4-4299-9baf-c103c1b126c7",
      "metadata": {
        "id": "99e25a6a-f2c4-4299-9baf-c103c1b126c7",
        "tags": []
      },
      "source": [
        "### Knock 39: 副問い合わせ3（難）\n",
        "レシート明細テーブル（`receipt`）に対し，店舗コード（`store_cd`）ごとに商品コードごと（`product_cd`）の売上金額（`amount`）総額を計算し，各店舗で売上総額が最も大きかった商品コードとその売上総額を表示せよ．\n",
        "\n",
        "※ヒント：Window関数の`OVER`句の中で`PARTITION BY`句を使う"
      ]
    },
    {
      "cell_type": "code",
      "execution_count": null,
      "id": "62275b7f-ed82-4a0c-8bc0-f8b7daae2402",
      "metadata": {
        "id": "62275b7f-ed82-4a0c-8bc0-f8b7daae2402"
      },
      "outputs": [],
      "source": [
        "%%sql\n",
        "\n"
      ]
    },
    {
      "cell_type": "markdown",
      "id": "7d3c0de0-8207-4a4c-bad3-d545245afec2",
      "metadata": {
        "id": "7d3c0de0-8207-4a4c-bad3-d545245afec2",
        "tags": []
      },
      "source": [
        "### Knock 40: 副問い合わせ4（難）\n",
        "レシート明細テーブル（`receipt`）に対して商品コードごと（`product_cd`）の売上金額（`amount`）総額を計算し，売上総額のパーセンタイル値が25%から75%の商品コードを表示せよ．なお，表示する件数は10でよい．\n",
        "\n",
        "※ヒント: Window関数の`PERCENT_RANK`を使う"
      ]
    },
    {
      "cell_type": "code",
      "execution_count": null,
      "id": "bbb90d8a-4fb6-4bdc-a4d6-61e2a63775a2",
      "metadata": {
        "id": "bbb90d8a-4fb6-4bdc-a4d6-61e2a63775a2"
      },
      "outputs": [],
      "source": [
        "%%sql\n",
        "\n"
      ]
    }
  ],
  "metadata": {
    "colab": {
      "provenance": []
    },
    "kernelspec": {
      "display_name": "Python 3 (ipykernel)",
      "language": "python",
      "name": "python3"
    },
    "language_info": {
      "codemirror_mode": {
        "name": "ipython",
        "version": 3
      },
      "file_extension": ".py",
      "mimetype": "text/x-python",
      "name": "python",
      "nbconvert_exporter": "python",
      "pygments_lexer": "ipython3",
      "version": "3.9.8"
    },
    "toc-autonumbering": false,
    "toc-showcode": false,
    "toc-showmarkdowntxt": false,
    "toc-showtags": false
  },
  "nbformat": 4,
  "nbformat_minor": 5
}
