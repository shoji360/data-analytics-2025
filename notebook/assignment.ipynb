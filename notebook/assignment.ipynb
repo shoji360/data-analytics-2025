{
 "cells": [
  {
   "cell_type": "markdown",
   "id": "321901db-d564-4bb8-bb96-7b3112356621",
   "metadata": {
    "tags": []
   },
   "source": [
    "# データアナリティクスII（山本担当モジュール）レポート課題\n",
    "関係データベースを利用して購買データを管理している仮想の小売店（杏森堂）から，データ分析の依頼を受けたとする．下記「SQL利用環境セットアップ」を実行することで入手できるデータセット（& 分析環境）を利用して，下記4つの課題に対する回答を作成しなさい．\n",
    "\n",
    "---"
   ]
  },
  {
   "cell_type": "markdown",
   "id": "0551efe8-3185-49df-a84c-c95e2b330210",
   "metadata": {
    "tags": []
   },
   "source": [
    "## SQL利用環境セットアップ\n",
    "SQLiteはWindows/Mac/LinuxどのOSでもインストールして利用することができる．本演習は環境構築の手間をできるだけ減らすために，Google Colaboratory上でSQLiteを用いる．まず，以下のコードが書かれた箇所（セル）を実行しよう．すると，Google Colaboratory上でSQLiteを実行するための環境が用意される．\n",
    "\n",
    "なお，Google Colaboratory上でコードを実行するには，以下の2つの方法がある：\n",
    "* 「再生ボタン」をクリックする\n",
    "* コードが書かれたセルをクリックし，Shift + Enterキーを押す"
   ]
  },
  {
   "cell_type": "code",
   "execution_count": null,
   "id": "629fb332-b16f-4505-9320-5a3e18d073c8",
   "metadata": {},
   "outputs": [],
   "source": [
    "# Google Colaboratory上のSQLiteをアップグレードする\n",
    "import sys\n",
    "if 'google.colab' in sys.modules:\n",
    "    !gdown --id 1BSHIKQ7rFw5BpTq5nw1UZfjPK_7Mpnbi -O /usr/lib/python3.7/lib-dynload/"
   ]
  },
  {
   "cell_type": "markdown",
   "id": "2227c62a-14c4-40c6-9e2c-f7ba41b81e62",
   "metadata": {},
   "source": [
    "上記コードを実行したら，アップグレード版SQLiteを使うために，Google Colaboratoryを再起動させよう．\n",
    "再起動の方法は，画面上部の`Runtime`から`Restart Runtime`をクリックする．\n",
    "\n",
    "再起動が完了したら，コードを実行しよう．以下のコードはGoogle Colab（Jupyter）上でSQLを対話的に利用するためのおまじないである．"
   ]
  },
  {
   "cell_type": "code",
   "execution_count": null,
   "id": "4c8b9005-3634-4ff6-a29f-1c94b39cd07c",
   "metadata": {},
   "outputs": [],
   "source": [
    "# ipython-sqlがインストールされていない場合\n",
    "!pip install ipython-sql"
   ]
  },
  {
   "cell_type": "markdown",
   "id": "9e556bb9-061e-44f5-a473-643ec834fcd0",
   "metadata": {},
   "source": [
    "英文が数行表示された後，SQLiteがインストールされる． \n",
    "\n",
    "続いて，演習で用いる購買データが収められたSQLiteデータベースをダウンロードしよう． 以下のコードを実行すると，Google Colaboratory上にデータベースがダウンロードされる．"
   ]
  },
  {
   "cell_type": "code",
   "execution_count": null,
   "id": "06c964a0-6b81-4f11-bfa1-b29097aeff9f",
   "metadata": {},
   "outputs": [],
   "source": [
    "# SQLiteデータベース（data-analytics-lecture.db）のファイルをダウンロード\n",
    "import os\n",
    "if not os.path.exists('data/data-analytics-lecture.db'):\n",
    "    !wget -P data https://github.com/hontolab-courses/data-analytics-2022/raw/main/data/data-analytics-lecture.db"
   ]
  },
  {
   "cell_type": "markdown",
   "id": "ab262c05-d5cc-4653-9d03-23aef93ca823",
   "metadata": {},
   "source": [
    "データベースがダウンロードできたら，データをロードしておこう．\n",
    "以下のコードを実行すると，Google Colaboratory上でダウンロードしたSQLiteデータベースを操作できるようになる．"
   ]
  },
  {
   "cell_type": "code",
   "execution_count": null,
   "id": "964a1b32-cb0e-4b4b-b009-4e2e294ba0e2",
   "metadata": {},
   "outputs": [],
   "source": [
    "%load_ext sql\n",
    "%sql sqlite:///data/data-analytics-lecture.db"
   ]
  },
  {
   "cell_type": "markdown",
   "id": "60293e6c-c294-46bb-8411-35a178bb4439",
   "metadata": {},
   "source": [
    "なお，Google Colaboratoryはセッションを閉じると，環境が初期化され，以前に自前でインストールしたライブラリが削除される．\n",
    "Google Colaboratoryを使って演習に取り組む際には，上記コードを毎回忘れず実行しよう．"
   ]
  },
  {
   "cell_type": "markdown",
   "id": "a0e8a3b2-14a0-4f3e-8a18-1b2cc3835a1b",
   "metadata": {},
   "source": [
    "---"
   ]
  },
  {
   "cell_type": "markdown",
   "id": "cb9edfcb-4980-4f46-b952-e1905c1be25a",
   "metadata": {
    "tags": []
   },
   "source": [
    "## Google Colaboratory上でのSQLの実行方法"
   ]
  },
  {
   "cell_type": "markdown",
   "id": "0aedac9e-4ec5-4889-a2d3-a263555358fb",
   "metadata": {
    "tags": []
   },
   "source": [
    "Google Colaboratoryでは，以下のようにセルの冒頭に`%%sql`と書き，2行目以降にSQL文を書くとSQLを実行することができる．\n",
    "試しに以下のSQLを実行してみよう．"
   ]
  },
  {
   "cell_type": "code",
   "execution_count": null,
   "id": "6d090205-99d2-46a0-b56d-817d40e108bf",
   "metadata": {},
   "outputs": [],
   "source": [
    "%%sql\n",
    "\n",
    "SELECT\n",
    "    name AS table_name\n",
    "FROM\n",
    "    sqlite_master\n",
    "WHERE\n",
    "    type = 'table';"
   ]
  },
  {
   "cell_type": "markdown",
   "id": "7ad10f12-301d-4eb2-be80-144587992d8d",
   "metadata": {},
   "source": [
    "上記SQLは，データベースに格納されたテーブルの一覧を表示するものである．\n",
    "ダウンロードしたSQLiteデータベース，つまり今回扱う杏森堂のデータベースには，**6つ**のテーブルが格納されていることが分かる．なお，対象データベースの構造が記された実体関連図（ER図）は[コチラ](https://github.com/hontolab-courses/data-analytics-2022/raw/main/doc/ER-diagram.pdf)から確認することできる．\n",
    "\n",
    "課題とドリルに取り組む前に，あと1つ，別のSQLを実行してみよう．\n",
    "以下のSQLを実行すると，`receipt`テーブルの最初の10件を表示することができる\n",
    "（SQL文に`LIMIT`を付けないと，テーブル内の全データが表示されてしまうので注意）．"
   ]
  },
  {
   "cell_type": "code",
   "execution_count": null,
   "id": "9c0d75a1-a5d3-406d-9860-8c0f6b48e9df",
   "metadata": {},
   "outputs": [],
   "source": [
    "%%sql\n",
    "\n",
    "SELECT * FROM receipt LIMIT 10; "
   ]
  },
  {
   "cell_type": "markdown",
   "id": "8701212c-12a5-4c91-838e-c5471a4575e0",
   "metadata": {
    "tags": []
   },
   "source": [
    "## ★ SQLの実行結果をCSVに保存したい場合\n",
    "以下のように，セルの冒頭に`%%sql 一時保存先の変数名 <<`と書き，2行目以降にSQL文を書いて実行しよう．"
   ]
  },
  {
   "cell_type": "code",
   "execution_count": null,
   "id": "067f656b-80c4-49f6-a261-23800d23e02d",
   "metadata": {},
   "outputs": [],
   "source": [
    "%%sql records <<\n",
    "\n",
    "SELECT * FROM receipt LIMIT 10; "
   ]
  },
  {
   "cell_type": "markdown",
   "id": "8d2cafaf-0106-4ca0-a6f9-8c56255fe8c9",
   "metadata": {},
   "source": [
    "その後以下のコマンドを実行することで，SQLの実行結果を格納したCSVファイルを作成することができる．作成したCSVファイルは，画面左のサイドバーにあるファイル一覧からダウンロードできる．"
   ]
  },
  {
   "cell_type": "code",
   "execution_count": null,
   "id": "d3cfe815-fc19-4b9a-8199-b40baf3a7ead",
   "metadata": {},
   "outputs": [],
   "source": [
    "# records.csvは任意のファイル名にできる\n",
    "records.csv(filename=\"data/records.csv\")"
   ]
  },
  {
   "cell_type": "markdown",
   "id": "5db76f52-88b6-4a6d-94d1-d8e9ce02251b",
   "metadata": {},
   "source": [
    "---"
   ]
  },
  {
   "cell_type": "markdown",
   "id": "947edac0-0ace-4a19-9415-9ade9f01759d",
   "metadata": {},
   "source": [
    "## 課題内容"
   ]
  },
  {
   "cell_type": "markdown",
   "id": "8938a860-2617-4180-8d67-993176e18ffe",
   "metadata": {},
   "source": [
    "### 課題1（配点30％）\n",
    "杏森堂から提供された購買履歴が格納されたデータベースを用いて，これまでに何名の顧客が何回（何日）ショッピングを行ったのかを分析したい．\n",
    "\n",
    "レシート明細テーブル（`receipt`）を用いて顧客の購買頻度を分析し，以下の項目について分析結果を表示するSQL文を書き，実行結果とともに示しなさい：\n",
    "* 購買頻度（これまでに店舗を利用した日数）\n",
    "* 購買頻度に対応する顧客の数\n",
    "* 該当する購買頻度以下の顧客数の累積値\n",
    "\n",
    "ただし，顧客ID（`customer_id`）が\"Z\"から始まるのものは非会員を表すため，除外して分析すること．\n",
    "\n",
    "※ 以下は，SQL実行結果のイメージである：\n",
    "\n",
    "| 購買頻度（日数） | 購買頻度に対応する顧客の数 | 顧客数累積値 |\n",
    "| ---- | ---- | ---- |\n",
    "| 1 | 2761 | 2761 |\n",
    "| 2 | 1499 | 4260 |\n",
    "| 3 | 881 | 5141 |\n",
    "| ... | ... | ... |"
   ]
  },
  {
   "cell_type": "code",
   "execution_count": null,
   "id": "d9dc722f-9979-436e-8792-cac870c269c2",
   "metadata": {},
   "outputs": [],
   "source": [
    "%%sql\n"
   ]
  },
  {
   "cell_type": "markdown",
   "id": "a85724a4-fe8d-461a-aeaa-1bd5b3794457",
   "metadata": {},
   "source": [
    "### 課題2（配点30％）\n",
    "課題2-1，課題2-2のいずれかを選択し，結果を得るためのSQL文を書き，実行結果とともに示しなさい．"
   ]
  },
  {
   "cell_type": "markdown",
   "id": "1dda2172-6e3f-4cea-b891-900e63694e29",
   "metadata": {},
   "source": [
    "#### 課題2-1: 月別売上の対昨年比\n",
    "レシート明細テーブル（`receipt`）には2017年1月から2019年10月の間の購買情報が記録されている．2017年から2019年までの期間の売上を把握するために，1ヶ月ごとに以下の情報を集約表示せよ：\n",
    "* 年月（`year_month`）\n",
    "* 購買回数（`purchase_freq`）\n",
    "* 月間売上高（`total_amount`）\n",
    "* 購買1回あたりの平均購入額（`avg_amount_per_purchase`）\n",
    "* 当該月の前年売上高（`total_amount_last_year`）\n",
    "* 売上の対前年比（`ratio`）\n",
    "\n",
    "※ 以下は，SQL実行結果のイメージである：\n",
    "\n",
    "| year_month | purchase_freq | total_amount | avg_amount_per_purchase | total_amount_last_year | ratio |\n",
    "| ---- | ---- | ---- | ---- | ---- | ---- |\n",
    "| 2017-01 | 1405 | 902056 | 642 | NULL | NULL  |\n",
    "| 2017-02 | 1219 | 764413 | 627 | NULL | NULL  |\n",
    "| ... | ... | ... | ... | ... | ... |\n",
    "| 2017-12 | 1467 | 939654 | 640 | NULL | NULL  |\n",
    "| 2018-01 | 1473 | 944509 | 641 | 902056 | 1.05 |\n",
    "| 2018-02 | 1387 | 864128 | 623 | 764413 | 1.13 |\n",
    "| ... | ... | ... | ... | ... | ... |\n",
    "| 2019-10 | 1750 | 1143062 | 653 | 1069939 | 1.07 |"
   ]
  },
  {
   "cell_type": "code",
   "execution_count": null,
   "id": "8887cafc-dc28-4e1e-9d78-8863d282f48d",
   "metadata": {},
   "outputs": [],
   "source": [
    "%%sql\n"
   ]
  },
  {
   "cell_type": "markdown",
   "id": "a5c66dd3-6653-4658-bdd2-68613aca6a72",
   "metadata": {},
   "source": [
    "#### 課題2-2: ABC分析\n",
    "ABC分析は販売戦略を考えるために，売上によって商品をランク付けする手法である．\n",
    "一般に，ABC分析では売上総額の\n",
    "* 上位0〜70％の商品をAランク\n",
    "* 上位70〜90％の商品をBランク\n",
    "* 上位90〜100%の商品をCランク\n",
    "\n",
    "とするランク付けを行う．\n",
    "\n",
    "商品カテゴリ「菓子（`category_major_cd = 08`）」に属する商品について，小区分（`category_small_name`）ごとに売上を集計し，菓子カテゴリの売上総額に占める割合（構成比）を計算せよ．\n",
    "また，売上がN位の小区分の行には売上額上位N位までの構成比累計，および構成比累計に基づくABC分析のランク付け結果も表示せよ．\n",
    "\n",
    "※ 以下は，SQL実行結果のイメージである：\n",
    "\n",
    "| カテゴリ名 | 売上 | 構成比 | 累積構成比 | ランク |\n",
    "| ---- | ---- | ---- | ---- | ---- |\n",
    "| 煎餅 | 194211 | 0.1306 | 0.1306 | A |\n",
    "| 菓子詰め合わせ | 129580 | 0.0871 | 0.2178 | A |\n",
    "| ナッツ類 | 129020 | 0.0867 | 0.3046 | A |\n",
    "| ... | ... | ... | ... | ... |\n",
    "| キャンディー | 46177 | 0.0310 | 0.7208 | B |\n",
    "| ... | ... | ... | ... | ... |\n",
    "| その他珍味 | 24086 | 0.0162 | 0.9073 | C |\n",
    "| ... | ... | ... | ... | ... |"
   ]
  },
  {
   "cell_type": "code",
   "execution_count": null,
   "id": "6b964491-02db-425e-853e-ba729cabc829",
   "metadata": {},
   "outputs": [],
   "source": [
    "%%sql\n"
   ]
  },
  {
   "cell_type": "markdown",
   "id": "74d39ba1-7ded-4a5a-a7af-b2442aeb4724",
   "metadata": {},
   "source": [
    "### 課題3（配点30％）\n",
    "課題3-1から3-4の4題から1題を選択し回答しなさい．なお，課題3については，2題以上解いた学生には1題につき最大10％を加点する．\n",
    "\n",
    "※ Google Colabで実行したSQLの結果をCSVファイルとして保存するには，[こちらのウェブページ](https://nbviewer.org/github/hontolab-courses/data-analytics-2022/blob/main/notebook/day-04.ipynb)の「★SQLの実行結果をCSVに保存したい場合」を参考にすること．"
   ]
  },
  {
   "cell_type": "markdown",
   "id": "006ad844-305d-471d-b8b0-b333c4950b73",
   "metadata": {},
   "source": [
    "#### 課題3-1\n",
    "顧客ごとに購買頻度（購買回数）を求め，購買頻度の分布を説明するためのグラフを作成せよ．また，グラフから読み取れることを文章で記述せよ．ただし，顧客ID（`customer_id`）が\"Z\"から始まるのものは非会員を表すため，除外して分析すること．\n",
    "\n",
    "なおレポートには，顧客ごとに購買頻度（購買回数）を求めるためのSQL文も付しておくこと（SQL文の実行結果は掲載する必要なし）．"
   ]
  },
  {
   "cell_type": "code",
   "execution_count": null,
   "id": "2bc52dcf-1113-4b9d-9f87-7640e1d6b79e",
   "metadata": {},
   "outputs": [],
   "source": [
    "%%sql\n"
   ]
  },
  {
   "cell_type": "markdown",
   "id": "626607e9-7fff-44e6-84e2-4a7257ccd479",
   "metadata": {},
   "source": [
    "#### 課題3-2\n",
    "都道府県別に年月別の売上総額を求め，その売上総額の変化を比較するためのグラフを作成せよ．また，グラフから読み取れることを文章で記述せよ．\n",
    "\n",
    "なおレポートには，都道府県別の年月別売上総額を求めるためのSQL文も付しておくこと（SQL文の実行結果は掲載する必要なし）．"
   ]
  },
  {
   "cell_type": "code",
   "execution_count": null,
   "id": "0cb6d84e-3661-4290-b860-387bc5710f47",
   "metadata": {},
   "outputs": [],
   "source": [
    "%%sql\n"
   ]
  },
  {
   "cell_type": "markdown",
   "id": "68279d2b-9c7f-48de-b5d7-6563790947fc",
   "metadata": {},
   "source": [
    "#### 課題3-3\n",
    "顧客一人あたりの売上総額の分布を，千葉県の店舗ごとに比較するためのグラフを作成せよ．また，グラフから読み取れることを文章で記述せよ．ただし，顧客ID（`customer_id`）が\"Z\"から始まるのものは非会員を表すため，除外して分析すること．\n",
    "\n",
    "なおレポートには，店舗ごとにその店舗を利用した各顧客の売上総額を集計するSQL文も付しておくこと（SQL文の実行結果は掲載する必要なし）．"
   ]
  },
  {
   "cell_type": "code",
   "execution_count": null,
   "id": "3bac8d0d-8429-4316-88de-3c35e1c38664",
   "metadata": {},
   "outputs": [],
   "source": [
    "%%sql\n"
   ]
  },
  {
   "cell_type": "markdown",
   "id": "a7a1e3e3-3b4a-4d3d-89ee-355c29f13d9b",
   "metadata": {},
   "source": [
    "#### 課題3-4\n",
    "千葉県にある店舗間で顧客が購入する菓子の傾向が異なるかどうかを分析したい．千葉県にある店舗と菓子の中カテゴリ（cateogory_medium_cd）ごとに菓子の購入量（個数）を集計し，購入された菓子の中カテゴリの内訳を店舗間で比較するためのグラフを作成せよ．また，グラフから読み取れることを文章で記述せよ．\n",
    "\n",
    "なおレポートには，購入量を集計するためのSQL文も付しておくこと（SQL文の実行結果は掲載する必要なし）．"
   ]
  },
  {
   "cell_type": "code",
   "execution_count": null,
   "id": "38a9e0fb-3ad7-44ac-bf16-0fbe869a5b0e",
   "metadata": {},
   "outputs": [],
   "source": [
    "%%sql\n"
   ]
  },
  {
   "cell_type": "markdown",
   "id": "547ca749-3265-4a23-8e93-2841b51aa750",
   "metadata": {},
   "source": [
    "### 課題4（配点10％）\n",
    "データアナリティクスIIの山本担当パートについて，良かった点および改善すべき点を記しなさい．"
   ]
  }
 ],
 "metadata": {
  "kernelspec": {
   "display_name": "Python 3 (ipykernel)",
   "language": "python",
   "name": "python3"
  },
  "language_info": {
   "codemirror_mode": {
    "name": "ipython",
    "version": 3
   },
   "file_extension": ".py",
   "mimetype": "text/x-python",
   "name": "python",
   "nbconvert_exporter": "python",
   "pygments_lexer": "ipython3",
   "version": "3.9.8"
  },
  "toc-autonumbering": false,
  "toc-showcode": false,
  "toc-showmarkdowntxt": false,
  "toc-showtags": false
 },
 "nbformat": 4,
 "nbformat_minor": 5
}
