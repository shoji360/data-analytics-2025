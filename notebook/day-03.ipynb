{
  "cells": [
    {
      "cell_type": "markdown",
      "id": "121f2f2b-4a53-4889-9378-0a260c5ac12d",
      "metadata": {
        "id": "121f2f2b-4a53-4889-9378-0a260c5ac12d"
      },
      "source": [
        "# Day 3: データの結合やデータ変換のためのSQL操作\n",
        "Day 2に引き続き，Day 3では関係データベース上に格納された購買データを用いた演習を行う．\n",
        "Day 3では，\n",
        "* 複数の表データの結合\n",
        "* 関係データベース上での数値計算\n",
        "* 分析のためのデータの変換\n",
        "\n",
        "のためのSQL操作について体験する．\n",
        "\n",
        "なお，Day 2からDay 5の演習で用いるデータセットは，[データサイエンス100本ノック（構造化データ加工編）](https://github.com/The-Japan-DataScientist-Society/100knocks-preprocess)で提供されているデータセットをSQLite形式に変換したものである．また，「ノック」は[データサイエンス100本ノック（構造化データ加工編）](https://github.com/The-Japan-DataScientist-Society/100knocks-preprocess)に収録されている演習課題を，本授業向けにアレンジしたものである．「課題」は完全に山本が作成したものである．\n",
        "\n",
        "---"
      ]
    },
    {
      "cell_type": "markdown",
      "id": "3ba22696-32a1-4fb3-a32c-89fdd9729bc8",
      "metadata": {
        "id": "3ba22696-32a1-4fb3-a32c-89fdd9729bc8",
        "tags": []
      },
      "source": [
        "## SQL利用環境セットアップ\n",
        "SQLiteはWindows/Mac/LinuxどのOSでもインストールして利用することができる．本演習は環境構築の手間をできるだけ減らすために，Google Colaboratory上でSQLiteを用いる．\n",
        "\n",
        "Googleにログインした状態で[本演習サイト](https://data-analytics2022.hontolab.org)の各回の「ドリル（模範解答なし）」のリンクをクリックすると，あなた用のGoogle Colaboratoyがブラウザ上で立ち上がり，各回のドリル・課題を行うためのページが表示される．\n",
        "ページが表示されたら，以下のコードが書かれた箇所（セル）を実行しよう．すると，Google Colaboratory上でSQLiteを実行するための環境が用意される．\n",
        "\n",
        "なお，Google Colaboratory上でコードを実行するには，以下の2つの方法がある：\n",
        "* 「再生ボタン」をクリックする\n",
        "* コードが書かれたセルをクリックし，Shift + Enterキーを押す"
      ]
    },
    {
      "cell_type": "code",
      "execution_count": 1,
      "id": "c05fbadc-1480-44d2-958b-95e0edf207b0",
      "metadata": {
        "colab": {
          "base_uri": "https://localhost:8080/"
        },
        "id": "c05fbadc-1480-44d2-958b-95e0edf207b0",
        "outputId": "bb0c3584-bc70-4ede-fb9b-ca1a57088c34"
      },
      "outputs": [
        {
          "name": "stdout",
          "output_type": "stream",
          "text": [
            "/bin/bash: line 1: sqlite3: command not found\n",
            "Hit:1 http://archive.ubuntu.com/ubuntu jammy InRelease\n",
            "Get:2 http://archive.ubuntu.com/ubuntu jammy-updates InRelease [119 kB]\n",
            "Get:3 https://cloud.r-project.org/bin/linux/ubuntu jammy-cran40/ InRelease [3,626 B]\n",
            "Get:4 https://developer.download.nvidia.com/compute/cuda/repos/ubuntu2204/x86_64  InRelease [1,581 B]\n",
            "Hit:5 http://archive.ubuntu.com/ubuntu jammy-backports InRelease\n",
            "Get:6 http://security.ubuntu.com/ubuntu jammy-security InRelease [110 kB]\n",
            "Hit:7 https://ppa.launchpadcontent.net/c2d4u.team/c2d4u4.0+/ubuntu jammy InRelease\n",
            "Hit:8 https://ppa.launchpadcontent.net/deadsnakes/ppa/ubuntu jammy InRelease\n",
            "Get:9 https://developer.download.nvidia.com/compute/cuda/repos/ubuntu2204/x86_64  Packages [825 kB]\n",
            "Hit:10 https://ppa.launchpadcontent.net/graphics-drivers/ppa/ubuntu jammy InRelease\n",
            "Hit:11 https://ppa.launchpadcontent.net/ubuntugis/ppa/ubuntu jammy InRelease\n",
            "Get:12 http://archive.ubuntu.com/ubuntu jammy-updates/main amd64 Packages [2,037 kB]\n",
            "Get:13 http://archive.ubuntu.com/ubuntu jammy-updates/universe amd64 Packages [1,371 kB]\n",
            "Fetched 4,467 kB in 2s (2,207 kB/s)\n",
            "Reading package lists... Done\n",
            "Reading package lists... Done\n",
            "Building dependency tree... Done\n",
            "Reading state information... Done\n",
            "Suggested packages:\n",
            "  sqlite3-doc\n",
            "The following NEW packages will be installed:\n",
            "  sqlite3\n",
            "0 upgraded, 1 newly installed, 0 to remove and 45 not upgraded.\n",
            "Need to get 768 kB of archives.\n",
            "After this operation, 1,873 kB of additional disk space will be used.\n",
            "Get:1 http://archive.ubuntu.com/ubuntu jammy-updates/main amd64 sqlite3 amd64 3.37.2-2ubuntu0.3 [768 kB]\n",
            "Fetched 768 kB in 0s (3,750 kB/s)\n",
            "Selecting previously unselected package sqlite3.\n",
            "(Reading database ... 121920 files and directories currently installed.)\n",
            "Preparing to unpack .../sqlite3_3.37.2-2ubuntu0.3_amd64.deb ...\n",
            "Unpacking sqlite3 (3.37.2-2ubuntu0.3) ...\n",
            "Setting up sqlite3 (3.37.2-2ubuntu0.3) ...\n",
            "Processing triggers for man-db (2.10.2-1) ...\n",
            "3.37.2 2022-01-06 13:25:41 872ba256cbf61d9290b571c0e6d82a20c224ca3ad82971edc46b29818d5dalt1\n"
          ]
        }
      ],
      "source": [
        "# 現在のSQLiteのバージョンを確認\n",
        "!sqlite3 --version\n",
        "\n",
        "# SQLiteの最新バージョンをインストールするために、apt-getを使用\n",
        "!apt-get update\n",
        "!apt-get install sqlite3\n",
        "\n",
        "# SQLiteの新しいバージョンをインストールした後、バージョンを再度確認\n",
        "!sqlite3 --version"
      ]
    },
    {
      "cell_type": "markdown",
      "id": "9f89fe1f-abdf-4b85-ac70-46f74e6d8fca",
      "metadata": {
        "id": "9f89fe1f-abdf-4b85-ac70-46f74e6d8fca"
      },
      "source": [
        "上記コードを実行したら，アップグレード版SQLiteを使うために，Google Colaboratoryを再起動させよう．\n",
        "再起動の方法は，画面上部の`Runtime`から`Restart Runtime`をクリックする．\n",
        "\n",
        "再起動が完了したら，コードを実行しよう．以下のコードはGoogle Colab（Jupyter）上でSQLを対話的に利用するためのおまじないである．"
      ]
    },
    {
      "cell_type": "code",
      "execution_count": 2,
      "id": "c78212b4-bd04-4ec1-a9e5-223283db72ec",
      "metadata": {
        "colab": {
          "base_uri": "https://localhost:8080/"
        },
        "id": "c78212b4-bd04-4ec1-a9e5-223283db72ec",
        "outputId": "ca0bc846-20e7-43c2-e187-4d53a32c2b46"
      },
      "outputs": [
        {
          "name": "stdout",
          "output_type": "stream",
          "text": [
            "Requirement already satisfied: ipython-sql in /usr/local/lib/python3.10/dist-packages (0.5.0)\n",
            "Requirement already satisfied: prettytable in /usr/local/lib/python3.10/dist-packages (from ipython-sql) (3.10.0)\n",
            "Requirement already satisfied: ipython in /usr/local/lib/python3.10/dist-packages (from ipython-sql) (7.34.0)\n",
            "Requirement already satisfied: sqlalchemy>=2.0 in /usr/local/lib/python3.10/dist-packages (from ipython-sql) (2.0.29)\n",
            "Requirement already satisfied: sqlparse in /usr/local/lib/python3.10/dist-packages (from ipython-sql) (0.5.0)\n",
            "Requirement already satisfied: six in /usr/local/lib/python3.10/dist-packages (from ipython-sql) (1.16.0)\n",
            "Requirement already satisfied: ipython-genutils in /usr/local/lib/python3.10/dist-packages (from ipython-sql) (0.2.0)\n",
            "Requirement already satisfied: typing-extensions>=4.6.0 in /usr/local/lib/python3.10/dist-packages (from sqlalchemy>=2.0->ipython-sql) (4.11.0)\n",
            "Requirement already satisfied: greenlet!=0.4.17 in /usr/local/lib/python3.10/dist-packages (from sqlalchemy>=2.0->ipython-sql) (3.0.3)\n",
            "Requirement already satisfied: setuptools>=18.5 in /usr/local/lib/python3.10/dist-packages (from ipython->ipython-sql) (67.7.2)\n",
            "Collecting jedi>=0.16 (from ipython->ipython-sql)\n",
            "  Downloading jedi-0.19.1-py2.py3-none-any.whl (1.6 MB)\n",
            "\u001b[2K     \u001b[90m━━━━━━━━━━━━━━━━━━━━━━━━━━━━━━━━━━━━━━━━\u001b[0m \u001b[32m1.6/1.6 MB\u001b[0m \u001b[31m10.0 MB/s\u001b[0m eta \u001b[36m0:00:00\u001b[0m\n",
            "\u001b[?25hRequirement already satisfied: decorator in /usr/local/lib/python3.10/dist-packages (from ipython->ipython-sql) (4.4.2)\n",
            "Requirement already satisfied: pickleshare in /usr/local/lib/python3.10/dist-packages (from ipython->ipython-sql) (0.7.5)\n",
            "Requirement already satisfied: traitlets>=4.2 in /usr/local/lib/python3.10/dist-packages (from ipython->ipython-sql) (5.7.1)\n",
            "Requirement already satisfied: prompt-toolkit!=3.0.0,!=3.0.1,<3.1.0,>=2.0.0 in /usr/local/lib/python3.10/dist-packages (from ipython->ipython-sql) (3.0.43)\n",
            "Requirement already satisfied: pygments in /usr/local/lib/python3.10/dist-packages (from ipython->ipython-sql) (2.16.1)\n",
            "Requirement already satisfied: backcall in /usr/local/lib/python3.10/dist-packages (from ipython->ipython-sql) (0.2.0)\n",
            "Requirement already satisfied: matplotlib-inline in /usr/local/lib/python3.10/dist-packages (from ipython->ipython-sql) (0.1.7)\n",
            "Requirement already satisfied: pexpect>4.3 in /usr/local/lib/python3.10/dist-packages (from ipython->ipython-sql) (4.9.0)\n",
            "Requirement already satisfied: wcwidth in /usr/local/lib/python3.10/dist-packages (from prettytable->ipython-sql) (0.2.13)\n",
            "Requirement already satisfied: parso<0.9.0,>=0.8.3 in /usr/local/lib/python3.10/dist-packages (from jedi>=0.16->ipython->ipython-sql) (0.8.4)\n",
            "Requirement already satisfied: ptyprocess>=0.5 in /usr/local/lib/python3.10/dist-packages (from pexpect>4.3->ipython->ipython-sql) (0.7.0)\n",
            "Installing collected packages: jedi\n",
            "Successfully installed jedi-0.19.1\n"
          ]
        }
      ],
      "source": [
        "# ipython-sqlがインストールされていない場合\n",
        "!pip install ipython-sql"
      ]
    },
    {
      "cell_type": "markdown",
      "id": "e3dceb39-d6f3-4576-bf86-0fe186db42e7",
      "metadata": {
        "id": "e3dceb39-d6f3-4576-bf86-0fe186db42e7"
      },
      "source": [
        "英文が数行表示された後，SQLiteがインストールされる．\n",
        "\n",
        "続いて，演習で用いる購買データが収められたSQLiteデータベースをダウンロードしよう． 以下のコードを実行すると，Google Colaboratory上にデータベースがダウンロードされる．"
      ]
    },
    {
      "cell_type": "code",
      "execution_count": 3,
      "id": "a0dc2ee8-db3e-4952-9e85-6a7da4121ce0",
      "metadata": {
        "colab": {
          "base_uri": "https://localhost:8080/"
        },
        "id": "a0dc2ee8-db3e-4952-9e85-6a7da4121ce0",
        "outputId": "9fc8d57a-bf6c-4160-b91f-d46a0a915652"
      },
      "outputs": [
        {
          "name": "stdout",
          "output_type": "stream",
          "text": [
            "--2024-05-02 03:49:42--  https://github.com/hontolab-courses/data-analytics-2022/raw/main/data/data-analytics-lecture.db\n",
            "Resolving github.com (github.com)... 140.82.112.4\n",
            "Connecting to github.com (github.com)|140.82.112.4|:443... connected.\n",
            "HTTP request sent, awaiting response... 302 Found\n",
            "Location: https://raw.githubusercontent.com/hontolab-courses/data-analytics-2022/main/data/data-analytics-lecture.db [following]\n",
            "--2024-05-02 03:49:42--  https://raw.githubusercontent.com/hontolab-courses/data-analytics-2022/main/data/data-analytics-lecture.db\n",
            "Resolving raw.githubusercontent.com (raw.githubusercontent.com)... 185.199.110.133, 185.199.111.133, 185.199.109.133, ...\n",
            "Connecting to raw.githubusercontent.com (raw.githubusercontent.com)|185.199.110.133|:443... connected.\n",
            "HTTP request sent, awaiting response... 200 OK\n",
            "Length: 41496576 (40M) [application/octet-stream]\n",
            "Saving to: ‘data/data-analytics-lecture.db’\n",
            "\n",
            "data-analytics-lect 100%[===================>]  39.57M   182MB/s    in 0.2s    \n",
            "\n",
            "2024-05-02 03:49:44 (182 MB/s) - ‘data/data-analytics-lecture.db’ saved [41496576/41496576]\n",
            "\n"
          ]
        }
      ],
      "source": [
        "# SQLiteデータベース（data-analytics-lecture.db）のファイルをダウンロード\n",
        "import os\n",
        "if not os.path.exists('data/data-analytics-lecture.db'):\n",
        "    !wget -P data https://github.com/shoji360/data-analytics-2024/raw/main/data/data-analytics-lecture.db"
      ]
    },
    {
      "cell_type": "markdown",
      "id": "776ce474-d1af-4f0a-946d-1f80f199b978",
      "metadata": {
        "id": "776ce474-d1af-4f0a-946d-1f80f199b978"
      },
      "source": [
        "データベースがダウンロードできたら，データをロードしておこう．\n",
        "以下のコードを実行すると，Google Colaboratory上でダウンロードしたSQLiteデータベースを操作できるようになる．"
      ]
    },
    {
      "cell_type": "code",
      "execution_count": 4,
      "id": "21587696-ca70-480b-ae47-102891eaff05",
      "metadata": {
        "id": "21587696-ca70-480b-ae47-102891eaff05"
      },
      "outputs": [],
      "source": [
        "%load_ext sql\n",
        "%sql sqlite:///data/data-analytics-lecture.db"
      ]
    },
    {
      "cell_type": "markdown",
      "id": "facb697e-9ec3-492c-a3ae-12bf2c2f2882",
      "metadata": {
        "id": "facb697e-9ec3-492c-a3ae-12bf2c2f2882"
      },
      "source": [
        "なお，Google Colaboratoryはセッションを閉じると，環境が初期化され，以前に自前でインストールしたライブラリが削除される．\n",
        "Google Colaboratoryを使って演習に取り組む際には，上記コードを毎回忘れず実行しよう．"
      ]
    },
    {
      "cell_type": "markdown",
      "id": "ce4ec60e-9d8d-45e2-b00f-bd99623f5f9f",
      "metadata": {
        "id": "ce4ec60e-9d8d-45e2-b00f-bd99623f5f9f"
      },
      "source": [
        "---"
      ]
    },
    {
      "cell_type": "code",
      "execution_count": 5,
      "id": "cc6bd496",
      "metadata": {
        "colab": {
          "base_uri": "https://localhost:8080/"
        },
        "id": "cc6bd496",
        "outputId": "7e3900c5-afbe-42fe-ac40-1a2395060b94"
      },
      "outputs": [
        {
          "name": "stdout",
          "output_type": "stream",
          "text": [
            "Requirement already satisfied: ipython-sql in /usr/local/lib/python3.10/dist-packages (0.5.0)\n",
            "Requirement already satisfied: prettytable in /usr/local/lib/python3.10/dist-packages (from ipython-sql) (3.10.0)\n",
            "Requirement already satisfied: ipython in /usr/local/lib/python3.10/dist-packages (from ipython-sql) (7.34.0)\n",
            "Requirement already satisfied: sqlalchemy>=2.0 in /usr/local/lib/python3.10/dist-packages (from ipython-sql) (2.0.29)\n",
            "Requirement already satisfied: sqlparse in /usr/local/lib/python3.10/dist-packages (from ipython-sql) (0.5.0)\n",
            "Requirement already satisfied: six in /usr/local/lib/python3.10/dist-packages (from ipython-sql) (1.16.0)\n",
            "Requirement already satisfied: ipython-genutils in /usr/local/lib/python3.10/dist-packages (from ipython-sql) (0.2.0)\n",
            "Requirement already satisfied: typing-extensions>=4.6.0 in /usr/local/lib/python3.10/dist-packages (from sqlalchemy>=2.0->ipython-sql) (4.11.0)\n",
            "Requirement already satisfied: greenlet!=0.4.17 in /usr/local/lib/python3.10/dist-packages (from sqlalchemy>=2.0->ipython-sql) (3.0.3)\n",
            "Requirement already satisfied: setuptools>=18.5 in /usr/local/lib/python3.10/dist-packages (from ipython->ipython-sql) (67.7.2)\n",
            "Requirement already satisfied: jedi>=0.16 in /usr/local/lib/python3.10/dist-packages (from ipython->ipython-sql) (0.19.1)\n",
            "Requirement already satisfied: decorator in /usr/local/lib/python3.10/dist-packages (from ipython->ipython-sql) (4.4.2)\n",
            "Requirement already satisfied: pickleshare in /usr/local/lib/python3.10/dist-packages (from ipython->ipython-sql) (0.7.5)\n",
            "Requirement already satisfied: traitlets>=4.2 in /usr/local/lib/python3.10/dist-packages (from ipython->ipython-sql) (5.7.1)\n",
            "Requirement already satisfied: prompt-toolkit!=3.0.0,!=3.0.1,<3.1.0,>=2.0.0 in /usr/local/lib/python3.10/dist-packages (from ipython->ipython-sql) (3.0.43)\n",
            "Requirement already satisfied: pygments in /usr/local/lib/python3.10/dist-packages (from ipython->ipython-sql) (2.16.1)\n",
            "Requirement already satisfied: backcall in /usr/local/lib/python3.10/dist-packages (from ipython->ipython-sql) (0.2.0)\n",
            "Requirement already satisfied: matplotlib-inline in /usr/local/lib/python3.10/dist-packages (from ipython->ipython-sql) (0.1.7)\n",
            "Requirement already satisfied: pexpect>4.3 in /usr/local/lib/python3.10/dist-packages (from ipython->ipython-sql) (4.9.0)\n",
            "Requirement already satisfied: wcwidth in /usr/local/lib/python3.10/dist-packages (from prettytable->ipython-sql) (0.2.13)\n",
            "Requirement already satisfied: parso<0.9.0,>=0.8.3 in /usr/local/lib/python3.10/dist-packages (from jedi>=0.16->ipython->ipython-sql) (0.8.4)\n",
            "Requirement already satisfied: ptyprocess>=0.5 in /usr/local/lib/python3.10/dist-packages (from pexpect>4.3->ipython->ipython-sql) (0.7.0)\n"
          ]
        }
      ],
      "source": [
        "# ipython-sqlがインストールされていない場合\n",
        "!pip install ipython-sql"
      ]
    },
    {
      "cell_type": "code",
      "execution_count": 6,
      "id": "b1e0979f",
      "metadata": {
        "colab": {
          "base_uri": "https://localhost:8080/"
        },
        "id": "b1e0979f",
        "outputId": "7d7d3ee2-e2c6-4217-aa11-b07f52053365"
      },
      "outputs": [
        {
          "name": "stdout",
          "output_type": "stream",
          "text": [
            "The sql extension is already loaded. To reload it, use:\n",
            "  %reload_ext sql\n"
          ]
        }
      ],
      "source": [
        "%load_ext sql\n",
        "%sql sqlite:///data/data-analytics-lecture.db"
      ]
    },
    {
      "cell_type": "markdown",
      "id": "1bf1c678-a3cf-47b6-93b0-1e9bdee3cceb",
      "metadata": {
        "id": "1bf1c678-a3cf-47b6-93b0-1e9bdee3cceb"
      },
      "source": [
        "---"
      ]
    },
    {
      "cell_type": "markdown",
      "id": "353af69a-bc3e-47d1-b121-a6a3f6cb729a",
      "metadata": {
        "id": "353af69a-bc3e-47d1-b121-a6a3f6cb729a"
      },
      "source": [
        "## Google Colaboratory上でのSQLの実行方法"
      ]
    },
    {
      "cell_type": "markdown",
      "id": "fea4a041-7fc1-4a06-a234-b3a0b765e943",
      "metadata": {
        "id": "fea4a041-7fc1-4a06-a234-b3a0b765e943",
        "tags": []
      },
      "source": [
        "Google Colaboratoryでは，以下のようにセルの冒頭に`%%sql`と書き，2行目以降にSQL文を書くとSQLを実行することができる．\n",
        "試しに以下のSQLを実行してみよう．"
      ]
    },
    {
      "cell_type": "code",
      "execution_count": 7,
      "id": "5b99970c-0953-4d1c-82d9-eebcd463a632",
      "metadata": {
        "colab": {
          "base_uri": "https://localhost:8080/",
          "height": 205
        },
        "id": "5b99970c-0953-4d1c-82d9-eebcd463a632",
        "outputId": "40b159d4-c9b8-4c8c-84f9-039908d0463e"
      },
      "outputs": [
        {
          "name": "stdout",
          "output_type": "stream",
          "text": [
            " * sqlite:///data/data-analytics-lecture.db\n",
            "Done.\n"
          ]
        },
        {
          "data": {
            "text/html": [
              "<table>\n",
              "    <thead>\n",
              "        <tr>\n",
              "            <th>table_name</th>\n",
              "        </tr>\n",
              "    </thead>\n",
              "    <tbody>\n",
              "        <tr>\n",
              "            <td>category</td>\n",
              "        </tr>\n",
              "        <tr>\n",
              "            <td>customer</td>\n",
              "        </tr>\n",
              "        <tr>\n",
              "            <td>geocode</td>\n",
              "        </tr>\n",
              "        <tr>\n",
              "            <td>product</td>\n",
              "        </tr>\n",
              "        <tr>\n",
              "            <td>receipt</td>\n",
              "        </tr>\n",
              "        <tr>\n",
              "            <td>store</td>\n",
              "        </tr>\n",
              "    </tbody>\n",
              "</table>"
            ],
            "text/plain": [
              "[('category',),\n",
              " ('customer',),\n",
              " ('geocode',),\n",
              " ('product',),\n",
              " ('receipt',),\n",
              " ('store',)]"
            ]
          },
          "execution_count": 7,
          "metadata": {},
          "output_type": "execute_result"
        }
      ],
      "source": [
        "%%sql\n",
        "\n",
        "SELECT\n",
        "    name AS table_name\n",
        "FROM\n",
        "    sqlite_master\n",
        "WHERE\n",
        "    type = 'table';"
      ]
    },
    {
      "cell_type": "markdown",
      "id": "9b3ff94c-d71b-4ce7-b281-b2ca147fc965",
      "metadata": {
        "id": "9b3ff94c-d71b-4ce7-b281-b2ca147fc965"
      },
      "source": [
        "上記SQLは，データベースに格納されたテーブルの一覧を表示するものである．\n",
        "ダウンロードしたSQLiteデータベース，つまり今回扱う杏森堂のデータベースには，**6つ**のテーブルが格納されていることが分かる．なお，対象データベースの構造が記された実体関連図（ER図）は[コチラ](https://github.com/shoji360/data-analytics-2024/raw/main/doc/ER-diagram.pdf)から確認することできる．\n",
        "\n",
        "課題とドリルに取り組む前に，あと1つ，別のSQLを実行してみよう．\n",
        "以下のSQLを実行すると，`receipt`テーブルの最初の10件を表示することができる\n",
        "（SQL文に`LIMIT`を付けないと，テーブル内の全データが表示されてしまうので注意）．"
      ]
    },
    {
      "cell_type": "code",
      "execution_count": 8,
      "id": "75ac62a6-ee1e-416f-a20e-041169dbfdb3",
      "metadata": {
        "colab": {
          "base_uri": "https://localhost:8080/",
          "height": 290
        },
        "id": "75ac62a6-ee1e-416f-a20e-041169dbfdb3",
        "outputId": "51c5e7ee-0d6f-479f-f3ea-4f0f920daa6c"
      },
      "outputs": [
        {
          "name": "stdout",
          "output_type": "stream",
          "text": [
            " * sqlite:///data/data-analytics-lecture.db\n",
            "Done.\n"
          ]
        },
        {
          "data": {
            "text/html": [
              "<table>\n",
              "    <thead>\n",
              "        <tr>\n",
              "            <th>sales_ymd</th>\n",
              "            <th>sales_epoch</th>\n",
              "            <th>store_cd</th>\n",
              "            <th>receipt_no</th>\n",
              "            <th>receipt_sub_no</th>\n",
              "            <th>customer_id</th>\n",
              "            <th>product_cd</th>\n",
              "            <th>quantity</th>\n",
              "            <th>amount</th>\n",
              "        </tr>\n",
              "    </thead>\n",
              "    <tbody>\n",
              "        <tr>\n",
              "            <td>20170101</td>\n",
              "            <td>1483228800</td>\n",
              "            <td>S12013</td>\n",
              "            <td>1112</td>\n",
              "            <td>1</td>\n",
              "            <td>ZZ000000000000</td>\n",
              "            <td>P090102011</td>\n",
              "            <td>1</td>\n",
              "            <td>180</td>\n",
              "        </tr>\n",
              "        <tr>\n",
              "            <td>20170101</td>\n",
              "            <td>1483228800</td>\n",
              "            <td>S12013</td>\n",
              "            <td>1142</td>\n",
              "            <td>2</td>\n",
              "            <td>ZZ000000000000</td>\n",
              "            <td>P070901024</td>\n",
              "            <td>1</td>\n",
              "            <td>198</td>\n",
              "        </tr>\n",
              "        <tr>\n",
              "            <td>20170101</td>\n",
              "            <td>1483228800</td>\n",
              "            <td>S12013</td>\n",
              "            <td>1172</td>\n",
              "            <td>2</td>\n",
              "            <td>ZZ000000000000</td>\n",
              "            <td>P070202007</td>\n",
              "            <td>1</td>\n",
              "            <td>138</td>\n",
              "        </tr>\n",
              "        <tr>\n",
              "            <td>20170101</td>\n",
              "            <td>1483228800</td>\n",
              "            <td>S12014</td>\n",
              "            <td>1152</td>\n",
              "            <td>1</td>\n",
              "            <td>CS014411000048</td>\n",
              "            <td>P080401010</td>\n",
              "            <td>1</td>\n",
              "            <td>110</td>\n",
              "        </tr>\n",
              "        <tr>\n",
              "            <td>20170101</td>\n",
              "            <td>1483228800</td>\n",
              "            <td>S12014</td>\n",
              "            <td>1152</td>\n",
              "            <td>2</td>\n",
              "            <td>CS014411000048</td>\n",
              "            <td>P070708081</td>\n",
              "            <td>1</td>\n",
              "            <td>338</td>\n",
              "        </tr>\n",
              "        <tr>\n",
              "            <td>20170101</td>\n",
              "            <td>1483228800</td>\n",
              "            <td>S12014</td>\n",
              "            <td>1172</td>\n",
              "            <td>1</td>\n",
              "            <td>ZZ000000000000</td>\n",
              "            <td>P071401022</td>\n",
              "            <td>1</td>\n",
              "            <td>2400</td>\n",
              "        </tr>\n",
              "        <tr>\n",
              "            <td>20170101</td>\n",
              "            <td>1483228800</td>\n",
              "            <td>S12029</td>\n",
              "            <td>112</td>\n",
              "            <td>1</td>\n",
              "            <td>CS029214000004</td>\n",
              "            <td>P060203001</td>\n",
              "            <td>1</td>\n",
              "            <td>98</td>\n",
              "        </tr>\n",
              "        <tr>\n",
              "            <td>20170101</td>\n",
              "            <td>1483228800</td>\n",
              "            <td>S12029</td>\n",
              "            <td>112</td>\n",
              "            <td>2</td>\n",
              "            <td>CS029214000004</td>\n",
              "            <td>P060701001</td>\n",
              "            <td>1</td>\n",
              "            <td>98</td>\n",
              "        </tr>\n",
              "        <tr>\n",
              "            <td>20170101</td>\n",
              "            <td>1483228800</td>\n",
              "            <td>S12029</td>\n",
              "            <td>1132</td>\n",
              "            <td>1</td>\n",
              "            <td>ZZ000000000000</td>\n",
              "            <td>P060104003</td>\n",
              "            <td>1</td>\n",
              "            <td>80</td>\n",
              "        </tr>\n",
              "        <tr>\n",
              "            <td>20170101</td>\n",
              "            <td>1483228800</td>\n",
              "            <td>S12029</td>\n",
              "            <td>1192</td>\n",
              "            <td>1</td>\n",
              "            <td>CS029414000005</td>\n",
              "            <td>P050102001</td>\n",
              "            <td>1</td>\n",
              "            <td>60</td>\n",
              "        </tr>\n",
              "    </tbody>\n",
              "</table>"
            ],
            "text/plain": [
              "[(20170101, '1483228800', 'S12013', '1112', '1', 'ZZ000000000000', 'P090102011', 1, 180),\n",
              " (20170101, '1483228800', 'S12013', '1142', '2', 'ZZ000000000000', 'P070901024', 1, 198),\n",
              " (20170101, '1483228800', 'S12013', '1172', '2', 'ZZ000000000000', 'P070202007', 1, 138),\n",
              " (20170101, '1483228800', 'S12014', '1152', '1', 'CS014411000048', 'P080401010', 1, 110),\n",
              " (20170101, '1483228800', 'S12014', '1152', '2', 'CS014411000048', 'P070708081', 1, 338),\n",
              " (20170101, '1483228800', 'S12014', '1172', '1', 'ZZ000000000000', 'P071401022', 1, 2400),\n",
              " (20170101, '1483228800', 'S12029', '112', '1', 'CS029214000004', 'P060203001', 1, 98),\n",
              " (20170101, '1483228800', 'S12029', '112', '2', 'CS029214000004', 'P060701001', 1, 98),\n",
              " (20170101, '1483228800', 'S12029', '1132', '1', 'ZZ000000000000', 'P060104003', 1, 80),\n",
              " (20170101, '1483228800', 'S12029', '1192', '1', 'CS029414000005', 'P050102001', 1, 60)]"
            ]
          },
          "execution_count": 8,
          "metadata": {},
          "output_type": "execute_result"
        }
      ],
      "source": [
        "%%sql\n",
        "\n",
        "SELECT * FROM receipt LIMIT 10;"
      ]
    },
    {
      "cell_type": "markdown",
      "id": "5a2f62a3-771a-4c6c-98e4-e898da8c9e47",
      "metadata": {
        "id": "5a2f62a3-771a-4c6c-98e4-e898da8c9e47"
      },
      "source": [
        "---"
      ]
    },
    {
      "cell_type": "markdown",
      "id": "01ab19e7-3667-4c82-8f49-9b72bf3c4aa4",
      "metadata": {
        "id": "01ab19e7-3667-4c82-8f49-9b72bf3c4aa4"
      },
      "source": [
        "## 課題2\n",
        "課題2-1，課題2-2のいずれかを選択し，結果を得るためのSQL文を書き，実行結果とともに示しなさい．"
      ]
    },
    {
      "cell_type": "markdown",
      "id": "5028e850-6fcf-4747-a104-48598ebe44a4",
      "metadata": {
        "id": "5028e850-6fcf-4747-a104-48598ebe44a4"
      },
      "source": [
        "### 課題2-1: 月別売上の対昨年比\n",
        "\n",
        "レシート明細テーブル（`receipt`）には2017年1月から2019年10月の間の購買情報が記録されている．2017年から2019年までの期間の売上を把握するために，1ヶ月ごとに以下の情報を集約表示せよ：\n",
        "* 年月（`year_month`）\n",
        "* 購買回数（`purchase_freq`）\n",
        "* 月間売上高（`total_amount`）\n",
        "* 購買1回あたりの平均購入額（`avg_amount_per_purchase`）\n",
        "* 当該月の前年売上高（`total_amount_last_year`）\n",
        "* 売上の対前年比（`ratio`）\n",
        "\n",
        "※ 以下は，SQL実行結果のイメージである：\n",
        "\n",
        "| year_month | purchase_freq | total_amount | avg_amount_per_purchase | total_amount_last_year | ratio |\n",
        "| ---- | ---- | ---- | ---- | ---- | ---- |\n",
        "| 2017-01 | 1405 | 902056 | 642 | NULL | NULL  |\n",
        "| 2017-02 | 1219 | 764413 | 627 | NULL | NULL  |\n",
        "| ... | ... | ... | ... | ... | ... |\n",
        "| 2017-12 | 1467 | 939654 | 640 | NULL | NULL  |\n",
        "| 2018-01 | 1473 | 944509 | 641 | 902056 | 1.05 |\n",
        "| 2018-02 | 1387 | 864128 | 623 | 764413 | 1.13 |\n",
        "| ... | ... | ... | ... | ... | ... |\n",
        "| 2019-10 | 1750 | 1143062 | 653 | 1069939 | 1.07 |"
      ]
    },
    {
      "cell_type": "code",
      "execution_count": null,
      "id": "24b5cdc9-5ad0-462e-96f9-63ee6dd21fb2",
      "metadata": {
        "id": "24b5cdc9-5ad0-462e-96f9-63ee6dd21fb2"
      },
      "outputs": [],
      "source": [
        "%%sql\n"
      ]
    },
    {
      "cell_type": "markdown",
      "id": "fa824393-1a59-4fc7-b332-71aa9925fa4d",
      "metadata": {
        "id": "fa824393-1a59-4fc7-b332-71aa9925fa4d"
      },
      "source": [
        "### 課題2-2: ABC分析\n",
        "\n",
        "ABC分析は販売戦略を考えるために，売上によって商品をランク付けする手法である．\n",
        "一般に，ABC分析では売上総額の\n",
        "* 上位0〜70％の商品をAランク\n",
        "* 上位70〜90％の商品をBランク\n",
        "* 上位90〜100%の商品をCランク\n",
        "\n",
        "とするランク付けを行う．\n",
        "\n",
        "商品カテゴリ「菓子（`category_major_cd = 08`）」に属する商品について，小区分（`category_small_name`）ごとに売上を集計し，菓子カテゴリの売上総額に占める割合（構成比）を計算せよ．\n",
        "また，売上がN位の小区分の行には売上額上位N位までの構成比累計，および構成比累計に基づくABC分析のランク付け結果も表示せよ．\n",
        "\n",
        "※ 以下は，SQL実行結果のイメージである：\n",
        "\n",
        "| カテゴリ名 | 売上 | 構成比 | 累積構成比 | ランク |\n",
        "| ---- | ---- | ---- | ---- | ---- |\n",
        "| 煎餅 | 194211 | 0.1306 | 0.1306 | A |\n",
        "| 菓子詰め合わせ | 129580 | 0.0871 | 0.2178 | A |\n",
        "| ナッツ類 | 129020 | 0.0867 | 0.3046 | A |\n",
        "| ... | ... | ... | ... | ... |\n",
        "| キャンディー | 46177 | 0.0310 | 0.7208 | B |\n",
        "| ... | ... | ... | ... | ... |\n",
        "| その他珍味 | 24086 | 0.0162 | 0.9073 | C |\n",
        "| ... | ... | ... | ... | ... |"
      ]
    },
    {
      "cell_type": "code",
      "execution_count": null,
      "id": "7332cc9a-825b-4b72-85cc-2c759815583f",
      "metadata": {
        "id": "7332cc9a-825b-4b72-85cc-2c759815583f"
      },
      "outputs": [],
      "source": [
        "%%sql\n"
      ]
    },
    {
      "cell_type": "markdown",
      "id": "41afa318-a4a0-4ed1-b3ce-266d18445849",
      "metadata": {
        "id": "41afa318-a4a0-4ed1-b3ce-266d18445849"
      },
      "source": [
        "---\n",
        "## ノック"
      ]
    },
    {
      "cell_type": "markdown",
      "id": "5c039dd9-abbf-4cb8-b681-4c5e199a2451",
      "metadata": {
        "id": "5c039dd9-abbf-4cb8-b681-4c5e199a2451"
      },
      "source": [
        "### Knock 41: 結合1\n",
        "レシート明細テーブル（`receipt`）と店舗テーブル（`store`）を内部結合し，レシート明細テーブルの全項目と店舗テーブルの店舗名（`store_name`）を10件表示させよ．"
      ]
    },
    {
      "cell_type": "code",
      "execution_count": null,
      "id": "a2dc79dd-41f0-4330-8e18-0d1ab5d2e4a6",
      "metadata": {
        "id": "a2dc79dd-41f0-4330-8e18-0d1ab5d2e4a6"
      },
      "outputs": [],
      "source": [
        "%%sql\n"
      ]
    },
    {
      "cell_type": "markdown",
      "id": "bc06dea3-3724-47cf-917c-2112802df44f",
      "metadata": {
        "id": "bc06dea3-3724-47cf-917c-2112802df44f",
        "tags": []
      },
      "source": [
        "### Knock 42: 結合2\n",
        "商品テーブル（`product`）とカテゴリテーブル（`category`）を内部結合し，商品テーブルの全項目とカテゴリテーブルの小区分名（`category_small_name`）を10件表示させよ．"
      ]
    },
    {
      "cell_type": "code",
      "execution_count": null,
      "id": "e07d3773-b9e0-4912-92d0-ba006d68cf71",
      "metadata": {
        "id": "e07d3773-b9e0-4912-92d0-ba006d68cf71"
      },
      "outputs": [],
      "source": [
        "%%sql\n"
      ]
    },
    {
      "cell_type": "markdown",
      "id": "5936ec79-2eb1-47c1-aff1-4bf13ca77259",
      "metadata": {
        "id": "5936ec79-2eb1-47c1-aff1-4bf13ca77259",
        "tags": []
      },
      "source": [
        "### Knock 43: 結合3\n",
        "顧客テーブル（`customer`）とレシート明細テーブル（`receipt`）から，各顧客ごとの売上金額合計を求めよ．ただし，売上実績がない顧客については売上金額を0として表示させること．また，顧客は性別コード（`gender_cd`）が女性（1）であるものを対象とし，非会員（顧客IDが\"Z\"から始まるもの）は除外すること．なお，表示項目は顧客ID（`customer_id`），顧客名（`customer_name`），売上金額合計とせよ．結果は10件だけ表示させればよい．\n",
        "\n",
        "※ヒント：`IFNULL（変数1, 0）`関数は，変数1が空値（None）のとき0に置き換える"
      ]
    },
    {
      "cell_type": "code",
      "execution_count": null,
      "id": "e373a6e2-3432-4e4a-8e20-69010afdf08a",
      "metadata": {
        "id": "e373a6e2-3432-4e4a-8e20-69010afdf08a"
      },
      "outputs": [],
      "source": [
        "%%sql\n"
      ]
    },
    {
      "cell_type": "markdown",
      "id": "d826d6d9-3c90-4309-b597-749fccd1acc7",
      "metadata": {
        "id": "d826d6d9-3c90-4309-b597-749fccd1acc7"
      },
      "source": [
        "### Knock 44: 結合4\n",
        "\n",
        "店舗と商品を組み合わせが全部で何通り「あり得るか」を計算したい．店舗（`store`）と商品（`product`）を直積を求めることで組合せ数を計算せよ．"
      ]
    },
    {
      "cell_type": "code",
      "execution_count": null,
      "id": "02314121-3bc5-42f4-9e7d-ca047a4163fc",
      "metadata": {
        "id": "02314121-3bc5-42f4-9e7d-ca047a4163fc"
      },
      "outputs": [],
      "source": [
        "%%sql\n"
      ]
    },
    {
      "cell_type": "markdown",
      "id": "0bb77194-aa8d-4b9a-a725-d2eb9ee56c21",
      "metadata": {
        "id": "0bb77194-aa8d-4b9a-a725-d2eb9ee56c21",
        "tags": []
      },
      "source": [
        "### Knock 45: 結合5（難）\n",
        "\n",
        "レシート明細テーブル（`receipt`）の売上金額（`amount`）を日付（`sales_ymd`）ごとに集計し，その結果を以下の3つを項目（列）として持つ表を出力せよ．\n",
        "* 日付（`sales_ymd`）\n",
        "* その日の売上金額（`total_amount`）\n",
        "* その日の1週間前の売上金額（`one_week_before`）\n",
        "\n",
        "なお，計算結果は10件表示すればよい．このノックはウィンドウ関数の`LAG`関数を使わずに取り組むこと．\n",
        "\n",
        "* ヒント1：WITH句を使って集計結果のテーブルを一時的に保存する\n",
        "* ヒント2：Window関数のROW_NUMBER関数を使う"
      ]
    },
    {
      "cell_type": "code",
      "execution_count": null,
      "id": "36ea1f33-2604-4910-a556-412413229d79",
      "metadata": {
        "id": "36ea1f33-2604-4910-a556-412413229d79"
      },
      "outputs": [],
      "source": [
        "%%sql\n"
      ]
    },
    {
      "cell_type": "markdown",
      "id": "76a004c1-bab1-474c-b8e8-e56a6594ebdb",
      "metadata": {
        "id": "76a004c1-bab1-474c-b8e8-e56a6594ebdb"
      },
      "source": [
        "### Knock 46: 結合6\n",
        "\n",
        "レシート明細テーブル（`receipt`）の売上金額（`amount`）を日付（`sales_ymd`）ごとに集計し，前日からの売上金額増減を計算せよ．前日の売上金額の取得にはWindow関数の`LAG`関数を用いること．計算結果は10件表示すればよい．"
      ]
    },
    {
      "cell_type": "code",
      "execution_count": null,
      "id": "d8c7dd25-ea43-4a46-9e43-f38cf27ddbca",
      "metadata": {
        "id": "d8c7dd25-ea43-4a46-9e43-f38cf27ddbca"
      },
      "outputs": [],
      "source": [
        "%%sql\n"
      ]
    },
    {
      "cell_type": "markdown",
      "id": "65de210b-78c9-4ecd-8132-a7425e482a5b",
      "metadata": {
        "id": "65de210b-78c9-4ecd-8132-a7425e482a5b"
      },
      "source": [
        "### Knock 47: 結合7（難）\n",
        "\n",
        "レシート明細テーブル（`receipt`）の売上金額（`amount`）を日付（`sales_ymd`）ごとに集計し，前日からの売上金額増減を計算せよ．なお，計算結果は10件表示すればよい．このノックはウィンドウ関数の`LAG`関数を使わずに取り組むこと．\n",
        "\n",
        "※ヒント1：WITH句を使って集計結果のテーブルを一時的に保存する\n",
        "※ヒント2：Window関数のROW_NUMBER関数を使う"
      ]
    },
    {
      "cell_type": "code",
      "execution_count": null,
      "id": "b7ef1add-f4bf-4a01-b6db-8a7b75191093",
      "metadata": {
        "id": "b7ef1add-f4bf-4a01-b6db-8a7b75191093"
      },
      "outputs": [],
      "source": [
        "%%sql\n"
      ]
    },
    {
      "cell_type": "markdown",
      "id": "949f752b-57ef-4f8f-a5a4-e88dec7be0ad",
      "metadata": {
        "id": "949f752b-57ef-4f8f-a5a4-e88dec7be0ad",
        "tags": []
      },
      "source": [
        "### Knock 48: 欠損値1\n",
        "\n",
        "商品テーブル（`product`）には単価（`unit_price`）と原価（`unit_cost`）が欠損しているレコードが存在する．そのようなレコードを表示せよ．"
      ]
    },
    {
      "cell_type": "code",
      "execution_count": null,
      "id": "2f8dee62-2866-482f-9d79-74af42ede02e",
      "metadata": {
        "id": "2f8dee62-2866-482f-9d79-74af42ede02e"
      },
      "outputs": [],
      "source": [
        "%%sql\n"
      ]
    },
    {
      "cell_type": "markdown",
      "id": "1eb1ae83-2f50-4a0a-a89d-307ab4e4e289",
      "metadata": {
        "id": "1eb1ae83-2f50-4a0a-a89d-307ab4e4e289",
        "tags": []
      },
      "source": [
        "### Knock 49: 欠損値2（難）\n",
        "\n",
        "商品テーブル（`product`）には単価（`unit_price`）と原価（`unit_cost`）が欠損しているレコードが存在する．単価と原価の欠損値について，それぞれの平均値で補完した商品テーブル`product_modified`として新たに生成せよ．\n",
        "\n",
        "※備考: すでに存在するテーブルを削除するには`DROP TABLE IF EXISTS テーブル名`とすればよい．"
      ]
    },
    {
      "cell_type": "code",
      "execution_count": null,
      "id": "6df55888-0a81-466d-8d92-6044e4e2d123",
      "metadata": {
        "id": "6df55888-0a81-466d-8d92-6044e4e2d123"
      },
      "outputs": [],
      "source": [
        "%%sql\n"
      ]
    },
    {
      "cell_type": "markdown",
      "id": "f5203390-657e-4a8d-bb23-fba6bfffedb5",
      "metadata": {
        "id": "f5203390-657e-4a8d-bb23-fba6bfffedb5"
      },
      "source": [
        "### Knock 50: 副問い合わせ再訪\n",
        "\n",
        "Knock48で生成した商品テーブル（`product_modified`）内のレコードのうち，元の商品テーブル（`product`）で単価と原価が欠損していた商品のレコードのみを表示せよ．なお，このノックでは該当する商品コードを`WHERE句`内で直接指定しないこと．また単価と原価は小数点第1位を四捨五入して表示すること．"
      ]
    },
    {
      "cell_type": "code",
      "execution_count": null,
      "id": "d04e9cec-f762-47c3-9827-6130c3830e11",
      "metadata": {
        "id": "d04e9cec-f762-47c3-9827-6130c3830e11"
      },
      "outputs": [],
      "source": [
        "%%sql\n"
      ]
    },
    {
      "cell_type": "markdown",
      "id": "bc8f5c8b-c79e-4c4e-a179-7dd20293d91c",
      "metadata": {
        "id": "bc8f5c8b-c79e-4c4e-a179-7dd20293d91c"
      },
      "source": [
        "### Knock 51: 四則演算1（SQLite固有）\n",
        "\n",
        "商品テーブル（`product`）の単価（`unit_price`）と原価（`unit_cost`）から，各商品の利益（`profit`）および利益率（`profit_rate`）を算出せよ．\n",
        "ただし，単価と原価にはNULL値が存在することに注意せよ．なお結果は10件表示させればよい．\n",
        "\n",
        "※ヒント: SQLiteでは浮動小数点型への変換は`CAST(数値 AS REAL)`という関数で行う．MySQLではキャストを行わなくても浮動小数点演算が可能．"
      ]
    },
    {
      "cell_type": "code",
      "execution_count": null,
      "id": "5a72a617-961e-4345-a247-de7a7ec9405e",
      "metadata": {
        "id": "5a72a617-961e-4345-a247-de7a7ec9405e"
      },
      "outputs": [],
      "source": [
        "%%sql\n"
      ]
    },
    {
      "cell_type": "markdown",
      "id": "dfa8075d-8cea-48d5-9941-d5c710750f37",
      "metadata": {
        "id": "dfa8075d-8cea-48d5-9941-d5c710750f37"
      },
      "source": [
        "### Knock 52: 四則演算2\n",
        "\n",
        "商品テーブル（`product`）の各商品について，利益率が30%となる新たな単価（`new_unit_price`）を求めよ．その際，1円未満を丸めること（四捨五入または偶数への丸めでよい）．ただし，単価と原価にはNULLが存在することに注意せよ．なお，結果を10件表示すればよい．"
      ]
    },
    {
      "cell_type": "code",
      "execution_count": null,
      "id": "125777d3-768d-4d21-b310-3fe24a160ce3",
      "metadata": {
        "id": "125777d3-768d-4d21-b310-3fe24a160ce3"
      },
      "outputs": [],
      "source": [
        "%%sql\n"
      ]
    },
    {
      "cell_type": "markdown",
      "id": "8e10e22e-ae4b-4c77-abed-f5e56620a621",
      "metadata": {
        "id": "8e10e22e-ae4b-4c77-abed-f5e56620a621"
      },
      "source": [
        "### Knock 53: 四則演算と集約演算1\n",
        "\n",
        "レシート明細テーブル（`receipt`）と顧客テーブル（`customer`）を結合し，性別（`gender`）と年代（`age`から計算）ごとの売上金額（`amount`）の合計値を表示せよ．ただし，表示項目の構成は性別，年代，売上総額の3項目とすること．また，年代は10歳ごとの階級とすること．"
      ]
    },
    {
      "cell_type": "code",
      "execution_count": null,
      "id": "2c07af6c-0540-4297-8114-7eb5086cb380",
      "metadata": {
        "id": "2c07af6c-0540-4297-8114-7eb5086cb380"
      },
      "outputs": [],
      "source": [
        "%%sql\n"
      ]
    },
    {
      "cell_type": "markdown",
      "id": "93407426-dbbf-4d76-9883-d6978847a0af",
      "metadata": {
        "id": "93407426-dbbf-4d76-9883-d6978847a0af",
        "tags": []
      },
      "source": [
        "### Knock 54: 四則演算と集約演算2（やや難）\n",
        "\n",
        "レシート明細テーブル（`receipt`）と商品テーブル（`product`）を結合し，顧客毎に全商品の売上金額合計とカテゴリ大区分（`category_major_cd`）が`\"07\"`（瓶詰缶詰）の売上金額合計を計算の上，両者の比率を求めよ．\n",
        "抽出対象はカテゴリ大区分`\"07\"`（瓶詰缶詰）の売上実績がある顧客のみとし，結果は10件表示させればよい．\n",
        "\n",
        "※ヒント: Window関数の`OVER`句の中で`PARTION BY`を使う"
      ]
    },
    {
      "cell_type": "code",
      "execution_count": null,
      "id": "5df8a3a1-698c-4cad-82b5-87f04d162554",
      "metadata": {
        "id": "5df8a3a1-698c-4cad-82b5-87f04d162554"
      },
      "outputs": [],
      "source": [
        "%%sql\n"
      ]
    },
    {
      "cell_type": "markdown",
      "id": "9f1745b7-8941-4cdf-91b8-7a2cc435d2f3",
      "metadata": {
        "id": "9f1745b7-8941-4cdf-91b8-7a2cc435d2f3",
        "tags": []
      },
      "source": [
        "### Knock 55: 四則演算と集約演算3（やや難）\n",
        "\n",
        "レシート明細テーブル（`receipt`）を用いて顧客ID（`customer_id`）ごとの総売上を計算し，その上位10件を表示せよ．\n",
        "その際，売上順位がN位の顧客IDの行には売上額上位N位までの顧客の累積売上額を併せて表示すること．\n",
        "なお，顧客IDが\"Z\"から始まるのものは非会員を表すため，除外して計算すること．\n",
        "\n",
        "※ヒント: Window関数の`OVER`句の中で`ORDER BY`を使うと…"
      ]
    },
    {
      "cell_type": "code",
      "execution_count": null,
      "id": "3d74994f-f251-48ba-826e-75e40738fefa",
      "metadata": {
        "id": "3d74994f-f251-48ba-826e-75e40738fefa"
      },
      "outputs": [],
      "source": [
        "%%sql\n"
      ]
    },
    {
      "cell_type": "markdown",
      "id": "25d534ed-fac9-4f3c-aed1-cd93d9e747d1",
      "metadata": {
        "id": "25d534ed-fac9-4f3c-aed1-cd93d9e747d1",
        "tags": []
      },
      "source": [
        "### Knock 56: 2値化\n",
        "\n",
        "顧客テーブル（`customer`）を東京（先頭3桁が100〜209のもの）とそれ以外の地域に分け，レシート明細テーブル（`receipt`）と結合し，全期間における購買頻度（`receipt_no`の総数）および売上総額を集計せよ．\n",
        "\n",
        "※ヒント: `CASE`句を使う"
      ]
    },
    {
      "cell_type": "code",
      "execution_count": null,
      "id": "adc79c49-c908-43a8-9afc-cc2001c55644",
      "metadata": {
        "id": "adc79c49-c908-43a8-9afc-cc2001c55644"
      },
      "outputs": [],
      "source": [
        "%%sql\n"
      ]
    },
    {
      "cell_type": "markdown",
      "id": "bf1501b6-f593-4380-88b2-68ff5fc14f82",
      "metadata": {
        "id": "bf1501b6-f593-4380-88b2-68ff5fc14f82",
        "tags": []
      },
      "source": [
        "### Knock 57: カテゴリ化1\n",
        "\n",
        "顧客テーブル（`customer`）の年齢（`age`）をもとに10歳刻みで年代を算出し，年代ごとの顧客人数を集計せよ．なお，年代は10代であれば`1`，20代であれば`2`のようにすればよい．年代を表すカテゴリ名は任意とする．\n",
        "\n",
        "※ 小数を整数に変換する必要があれば`CAST`関数を使うこと"
      ]
    },
    {
      "cell_type": "code",
      "execution_count": null,
      "id": "16b294c5-2353-41a7-9844-55122f6b4ec3",
      "metadata": {
        "id": "16b294c5-2353-41a7-9844-55122f6b4ec3"
      },
      "outputs": [],
      "source": [
        "%%sql\n"
      ]
    },
    {
      "cell_type": "markdown",
      "id": "21a9f5c6-372f-4966-8109-9cc30f13baf1",
      "metadata": {
        "id": "21a9f5c6-372f-4966-8109-9cc30f13baf1",
        "tags": []
      },
      "source": [
        "### Knock 58: カテゴリ化2（やや難）\n",
        "\n",
        "レシート明細テーブル（`receipt`）の売上金額（`amount`）を顧客ID（`customer_id`）ごとに合計し，顧客ごとの売上金額合計に対して以下の基準でカテゴリ値を作成し，顧客ID、売上金額合計とともに表示せよ．なお，表示件数は10件でよい．\n",
        "カテゴリ値は以下のようにすること．\n",
        "- 最小値以上第1四分位未満: 1を付与\n",
        "- 第1四分位以上第2四分位未満: 2を付与\n",
        "- 第2四分位以上第3四分位未満: 3を付与\n",
        "- 第3四分位以上: 4を付与\n",
        "\n",
        "※ ヒント: `PERCENT_RANK`関数を使う"
      ]
    },
    {
      "cell_type": "code",
      "execution_count": null,
      "id": "1222d1a3-70d8-4266-9f8f-6af09c1f83b9",
      "metadata": {
        "id": "1222d1a3-70d8-4266-9f8f-6af09c1f83b9"
      },
      "outputs": [],
      "source": [
        "%%sql\n"
      ]
    },
    {
      "cell_type": "markdown",
      "id": "9d3431c0-a905-4213-a446-78fcce90b67c",
      "metadata": {
        "id": "9d3431c0-a905-4213-a446-78fcce90b67c"
      },
      "source": [
        "### Knock 59: 日付型1\n",
        "\n",
        "レシート明細テーブル（`receipt`）の売上日（`sales_epoch`）は購買行動が行われた日付が[UNIX時刻](https://ja.wikipedia.org/wiki/UNIX時間)で格納されている．`sales_epoch`の数値を`DATETIME`関数によって日付時刻オブジェクトに変換し，2018年のレシート明細のみを表示せよ．表示件数は10件でよい．\n",
        "\n",
        "※ヒント: SQLiteデータベースでは`strftime`関数を使うことで，日付時刻オブジェクトから年や月，日を取り出すことができる．MySQLデータベース等では`DATE_FORMAT`関数を使うことで同様の操作ができる．"
      ]
    },
    {
      "cell_type": "code",
      "execution_count": null,
      "id": "6187c416-82b8-4a42-a12d-cb767d14edb4",
      "metadata": {
        "id": "6187c416-82b8-4a42-a12d-cb767d14edb4"
      },
      "outputs": [],
      "source": [
        "%%sql\n"
      ]
    },
    {
      "cell_type": "markdown",
      "id": "d1076a9a-042a-43b4-8f9c-ae3b22fe0016",
      "metadata": {
        "id": "d1076a9a-042a-43b4-8f9c-ae3b22fe0016"
      },
      "source": [
        "### Knock 60: 日付型2\n",
        "\n",
        "レシート明細テーブル（`receipt`）に格納された売上金額（`amount`）を年月ごとに集約して表示せよ．すなわち，ある年のある月の売上総額が分かるように結果を表示せよ．なお，表示件数は先頭の10件でよい．\n",
        "\n",
        "※ヒント: SQLiteデータベースでは`strftime`関数を使うことで，日付時刻オブジェクトから年や月，日を取り出すことができる．MySQLデータベース等では`DATE_FORMAT`関数を使うことで同様の操作ができる．"
      ]
    },
    {
      "cell_type": "code",
      "execution_count": null,
      "id": "3d676df5-7edb-4f04-b2e3-1a322a1903d4",
      "metadata": {
        "id": "3d676df5-7edb-4f04-b2e3-1a322a1903d4"
      },
      "outputs": [],
      "source": [
        "%%sql\n"
      ]
    }
  ],
  "metadata": {
    "colab": {
      "provenance": []
    },
    "kernelspec": {
      "display_name": "Python 3 (ipykernel)",
      "language": "python",
      "name": "python3"
    },
    "language_info": {
      "codemirror_mode": {
        "name": "ipython",
        "version": 3
      },
      "file_extension": ".py",
      "mimetype": "text/x-python",
      "name": "python",
      "nbconvert_exporter": "python",
      "pygments_lexer": "ipython3",
      "version": "3.9.8"
    },
    "toc-autonumbering": false,
    "toc-showcode": false,
    "toc-showmarkdowntxt": false,
    "toc-showtags": false
  },
  "nbformat": 4,
  "nbformat_minor": 5
}
