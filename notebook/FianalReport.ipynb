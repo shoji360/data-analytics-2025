{
 "cells": [
  {
   "cell_type": "markdown",
   "metadata": {
    "cell_id": "6f205dd6142f4a9bb9276d5a0d3400b7",
    "deepnote_cell_type": "markdown",
    "id": "321901db-d564-4bb8-bb96-7b3112356621",
    "tags": []
   },
   "source": [
    "# データアナリティクスII（莊司担当モジュール）レポート課題\n",
    "関係データベースを利用して購買データを管理している仮想の小売店（杏森堂）から，データ分析の依頼を受けたとする．下記「SQL利用環境セットアップ」を実行することで入手できるデータセット（& 分析環境）を利用して，下記4つの課題に対する回答を作成しなさい．\n",
    "\n",
    "---"
   ]
  },
  {
   "cell_type": "markdown",
   "metadata": {
    "cell_id": "a9ba53de5bb14cf2a0d993a6b6400fc6",
    "deepnote_cell_type": "markdown",
    "id": "8701212c-12a5-4c91-838e-c5471a4575e0",
    "tags": []
   },
   "source": [
    "## ★ SQLの実行結果をCSVに保存したい場合\n",
    "DeepnoteのExport機能を使って実行結果をCSV形式で書き出し、Excelに貼ったり、Pythonで読み込んで可視化しましょう\n"
   ]
  },
  {
   "cell_type": "markdown",
   "metadata": {
    "cell_id": "6670f3d1f27741478ef12adc12c9c9a6",
    "deepnote_cell_type": "image",
    "deepnote_img_src": "image-20230724-104407.png"
   },
   "source": [
    "<img src=\"image-20230724-104407.png\" width=\"\" align=\"\" />"
   ]
  },
  {
   "cell_type": "markdown",
   "metadata": {
    "cell_id": "45be5962eb0447268481f363dd4f571f",
    "deepnote_cell_type": "text-cell-h1",
    "formattedRanges": []
   },
   "source": [
    "# 実際の課題提出方法"
   ]
  },
  {
   "cell_type": "markdown",
   "metadata": {
    "cell_id": "ad88be2fc4304bb9bf57ee85924814f7",
    "deepnote_cell_type": "text-cell-bullet",
    "formattedRanges": []
   },
   "source": [
    "- 以下のリンク先のレポート課題用のWordファイルをダウンロードし、埋める形でレポートを作成して、学務ポータルから提出してください。"
   ]
  },
  {
   "cell_type": "markdown",
   "metadata": {
    "cell_id": "35b176fe0c6243c4bcc51322ae9b2540",
    "deepnote_cell_type": "text-cell-p",
    "formattedRanges": [
     {
      "fromCodePoint": 0,
      "ranges": [],
      "toCodePoint": 36,
      "type": "link",
      "url": "https://shoji-lab.jp/da2_report.docx"
     }
    ]
   },
   "source": [
    "https://shoji-lab.jp/da2_report.docx"
   ]
  },
  {
   "cell_type": "markdown",
   "metadata": {
    "cell_id": "a94426e17caa47f7b5a0871c976e1b87",
    "deepnote_cell_type": "text-cell-bullet",
    "formattedRanges": []
   },
   "source": [
    "- 提出期限は8月6日24時です（次回、最終回から1週間）。"
   ]
  },
  {
   "cell_type": "markdown",
   "metadata": {
    "cell_id": "f9561936fe7f4060a990eac681a58ee2",
    "deepnote_cell_type": "markdown",
    "id": "5db76f52-88b6-4a6d-94d1-d8e9ce02251b"
   },
   "source": [
    "---"
   ]
  },
  {
   "cell_type": "markdown",
   "metadata": {
    "cell_id": "0b0d786a66ee43f9bf71398c136b78f2",
    "deepnote_cell_type": "markdown",
    "id": "947edac0-0ace-4a19-9415-9ade9f01759d"
   },
   "source": [
    "## 課題内容"
   ]
  },
  {
   "cell_type": "markdown",
   "metadata": {
    "cell_id": "b7e0013ab962483db6b61e514144929d",
    "deepnote_cell_type": "markdown",
    "id": "8938a860-2617-4180-8d67-993176e18ffe"
   },
   "source": [
    "### 課題1（配点20％）\n",
    "杏森堂から提供された購買履歴が格納されたデータベースを用いて，これまでに何名の顧客が何回（何日）ショッピングを行ったのかを分析したい．\n",
    "\n",
    "レシート明細テーブル（`receipt`）を用いて顧客の購買頻度を分析し，以下の項目について分析結果を表示するSQL文を書き，実行結果とともに示しなさい：\n",
    "* 購買頻度（これまでに店舗を利用した日数）\n",
    "* 購買頻度に対応する顧客の数\n",
    "* 該当する購買頻度以下の顧客数の累積値\n",
    "\n",
    "ただし，顧客ID（`customer_id`）が\"Z\"から始まるのものは非会員を表すため，除外して分析すること．\n",
    "\n",
    "※ 以下は，SQL実行結果のイメージである：\n",
    "\n",
    "| 購買頻度（日数） | 購買頻度に対応する顧客の数 | 顧客数累積値 |\n",
    "| ---- | ---- | ---- |\n",
    "| 1 | 2761 | 2761 |\n",
    "| 2 | 1499 | 4260 |\n",
    "| 3 | 881 | 5141 |\n",
    "| ... | ... | ... |"
   ]
  },
  {
   "cell_type": "markdown",
   "metadata": {
    "cell_id": "89c2408141f04b31932ac6db45b6fd24",
    "deepnote_cell_type": "markdown",
    "id": "a85724a4-fe8d-461a-aeaa-1bd5b3794457"
   },
   "source": [
    "### 課題2（配点20％）\n",
    "課題2-1，課題2-2のいずれかを選択し，結果を得るためのSQL文を書き，実行結果とともに示しなさい．"
   ]
  },
  {
   "cell_type": "markdown",
   "metadata": {
    "cell_id": "af88e638533d4a7886b1633b95d9578a",
    "deepnote_cell_type": "markdown",
    "id": "1dda2172-6e3f-4cea-b891-900e63694e29"
   },
   "source": [
    "#### 課題2-1: 月別売上の対昨年比\n",
    "レシート明細テーブル（`receipt`）には2017年1月から2019年10月の間の購買情報が記録されている．2017年から2019年までの期間の売上を把握するために，1ヶ月ごとに以下の情報を集約表示せよ：\n",
    "* 年月（`year_month`）\n",
    "* 購買回数（`purchase_freq`）\n",
    "* 月間売上高（`total_amount`）\n",
    "* 購買1回あたりの平均購入額（`avg_amount_per_purchase`）\n",
    "* 当該月の前年売上高（`total_amount_last_year`）\n",
    "* 売上の対前年比（`ratio`）\n",
    "\n",
    "※ 以下は，SQL実行結果のイメージである：\n",
    "\n",
    "| year_month | purchase_freq | total_amount | avg_amount_per_purchase | total_amount_last_year | ratio |\n",
    "| ---- | ---- | ---- | ---- | ---- | ---- |\n",
    "| 2017-01 | 1405 | 902056 | 642 | NULL | NULL  |\n",
    "| 2017-02 | 1219 | 764413 | 627 | NULL | NULL  |\n",
    "| ... | ... | ... | ... | ... | ... |\n",
    "| 2017-12 | 1467 | 939654 | 640 | NULL | NULL  |\n",
    "| 2018-01 | 1473 | 944509 | 641 | 902056 | 1.05 |\n",
    "| 2018-02 | 1387 | 864128 | 623 | 764413 | 1.13 |\n",
    "| ... | ... | ... | ... | ... | ... |\n",
    "| 2019-10 | 1750 | 1143062 | 653 | 1069939 | 1.07 |"
   ]
  },
  {
   "cell_type": "markdown",
   "metadata": {
    "cell_id": "f9fd5f33c13848628738e8cd489d9e44",
    "deepnote_cell_type": "markdown",
    "id": "a5c66dd3-6653-4658-bdd2-68613aca6a72"
   },
   "source": [
    "#### 課題2-2: ABC分析\n",
    "ABC分析は販売戦略を考えるために，売上によって商品をランク付けする手法である．\n",
    "一般に，ABC分析では売上総額の\n",
    "* 上位0〜70％の商品をAランク\n",
    "* 上位70〜90％の商品をBランク\n",
    "* 上位90〜100%の商品をCランク\n",
    "\n",
    "とするランク付けを行う．\n",
    "\n",
    "商品カテゴリ「菓子（`category_major_cd = 08`）」に属する商品について，小区分（`category_small_name`）ごとに売上を集計し，菓子カテゴリの売上総額に占める割合（構成比）を計算せよ．\n",
    "また，売上がN位の小区分の行には売上額上位N位までの構成比累計，および構成比累計に基づくABC分析のランク付け結果も表示せよ．\n",
    "\n",
    "※ 以下は，SQL実行結果のイメージである：\n",
    "\n",
    "| カテゴリ名 | 売上 | 構成比 | 累積構成比 | ランク |\n",
    "| ---- | ---- | ---- | ---- | ---- |\n",
    "| 煎餅 | 194211 | 0.1306 | 0.1306 | A |\n",
    "| 菓子詰め合わせ | 129580 | 0.0871 | 0.2178 | A |\n",
    "| ナッツ類 | 129020 | 0.0867 | 0.3046 | A |\n",
    "| ... | ... | ... | ... | ... |\n",
    "| キャンディー | 46177 | 0.0310 | 0.7208 | B |\n",
    "| ... | ... | ... | ... | ... |\n",
    "| その他珍味 | 24086 | 0.0162 | 0.9073 | C |\n",
    "| ... | ... | ... | ... | ... |"
   ]
  },
  {
   "cell_type": "markdown",
   "metadata": {
    "cell_id": "038b4ff123e84450a0dd352e81f14ce4",
    "deepnote_cell_type": "markdown",
    "id": "74d39ba1-7ded-4a5a-a7af-b2442aeb4724"
   },
   "source": [
    "### 課題3（配点20％）\n",
    "課題3-1から3-4の4題から1題を選択し回答しなさい．なお，課題3については，2題以上解いた学生には1題につき最大10％を加点する．\n",
    "\n",
    "※ Google Colabで実行したSQLの結果をCSVファイルとして保存するには，[こちらのウェブページ](https://nbviewer.org/github/hontolab-courses/data-analytics-2022/blob/main/notebook/day-04.ipynb)の「★SQLの実行結果をCSVに保存したい場合」を参考にすること．"
   ]
  },
  {
   "cell_type": "markdown",
   "metadata": {
    "cell_id": "0b15bfd8c67c40deafd9938710520098",
    "deepnote_cell_type": "markdown",
    "id": "006ad844-305d-471d-b8b0-b333c4950b73"
   },
   "source": [
    "#### 課題3-1\n",
    "顧客ごとに購買頻度（購買回数）を求め，購買頻度の分布を説明するためのグラフを作成せよ．また，グラフから読み取れることを文章で記述せよ．ただし，顧客ID（`customer_id`）が\"Z\"から始まるのものは非会員を表すため，除外して分析すること．\n",
    "\n",
    "なおレポートには，顧客ごとに購買頻度（購買回数）を求めるためのSQL文も付しておくこと（SQL文の実行結果は掲載する必要なし）．"
   ]
  },
  {
   "cell_type": "markdown",
   "metadata": {
    "cell_id": "3e3b9a7752f648b59892caa4edad0f54",
    "deepnote_cell_type": "markdown",
    "id": "626607e9-7fff-44e6-84e2-4a7257ccd479"
   },
   "source": [
    "#### 課題3-2\n",
    "都道府県別に年月別の売上総額を求め，その売上総額の変化を比較するためのグラフを作成せよ．また，グラフから読み取れることを文章で記述せよ．\n",
    "\n",
    "なおレポートには，都道府県別の年月別売上総額を求めるためのSQL文も付しておくこと（SQL文の実行結果は掲載する必要なし）．"
   ]
  },
  {
   "cell_type": "markdown",
   "metadata": {
    "cell_id": "93ce95685761491e8e9c0a3b9fe4147d",
    "deepnote_cell_type": "markdown",
    "id": "68279d2b-9c7f-48de-b5d7-6563790947fc"
   },
   "source": [
    "#### 課題3-3\n",
    "顧客一人あたりの売上総額の分布を，千葉県の店舗ごとに比較するためのグラフを作成せよ．また，グラフから読み取れることを文章で記述せよ．ただし，顧客ID（`customer_id`）が\"Z\"から始まるのものは非会員を表すため，除外して分析すること．\n",
    "\n",
    "なおレポートには，店舗ごとにその店舗を利用した各顧客の売上総額を集計するSQL文も付しておくこと（SQL文の実行結果は掲載する必要なし）．"
   ]
  },
  {
   "cell_type": "markdown",
   "metadata": {
    "cell_id": "b22c9de33d3546a2b73a08d3550b438d",
    "deepnote_cell_type": "markdown",
    "id": "a7a1e3e3-3b4a-4d3d-89ee-355c29f13d9b"
   },
   "source": [
    "#### 課題3-4\n",
    "千葉県にある店舗間で顧客が購入する菓子の傾向が異なるかどうかを分析したい．千葉県にある店舗と菓子の中カテゴリ（cateogory_medium_cd）ごとに菓子の購入量（個数）を集計し，購入された菓子の中カテゴリの内訳を店舗間で比較するためのグラフを作成せよ．また，グラフから読み取れることを文章で記述せよ．\n",
    "\n",
    "なおレポートには，購入量を集計するためのSQL文も付しておくこと（SQL文の実行結果は掲載する必要なし）．"
   ]
  },
  {
   "cell_type": "markdown",
   "metadata": {},
   "source": [
    "### 課題4（配点30%）\n",
    "*これが、メインの課題といえるかもしれません！*\n",
    "\n",
    "このデータを提供して分析を依頼してきた杏森堂は、売り上げの延び悩みを抱えています。\n",
    "そこで、あなたは、何かキャンペーンを行うことで、売り上げを増やそうとしてください。\n",
    "たとえば、\n",
    "\n",
    "- 最近来ていないお客さんだけを抽出して、高額商品の割引クーポンを配布して、再度来てもらえるようにする\n",
    "- 店舗ごとに売り上げの低い商品カテゴリと、逆に売れている商品カテゴリを抽出し、各店舗を分野専門店にする\n",
    "\n",
    "などの施策を打つことができます。\n",
    "\n",
    "レポートには、\n",
    "\n",
    "- １．どんなキャンペーンを行うのか\n",
    "- ２．そのようなキャンペーンが有効だと思えるようなデータを、どんなSQLを使って抽出したのか\n",
    "  - （実際には、いくつかのSQLを実行して、いくつかの出力を見せることになります。結果を可視化することも有効です。）\n",
    "- ３．実際の抽出結果から、なぜそのようなキャンペーンを行おうと思ったのか\n",
    "- ４．理想的には、どのような効果が期待されるのか\n",
    "\n",
    "をそれぞれ書いてください。\n",
    "採点時には、採点者はキャンペーンを実際に実行するかを判断する、上司ポジションになりきって採点します。\n",
    "SQLが正しいかだけでなく、そのキャンペーンがどのくらい本当に効きそうだという説得力を持つかが加味されます。\n",
    "「こんなふうに正しいデータをもとにキャンペーンを考えているので、きっとこのキャンペーンは効くに違いない！」と、上司をデータで言いくるめてください。\n"
   ]
  },
  {
   "cell_type": "markdown",
   "metadata": {
    "cell_id": "3985c4e510814d66ac4d4064de4bf115",
    "deepnote_cell_type": "markdown",
    "id": "547ca749-3265-4a23-8e93-2841b51aa750"
   },
   "source": [
    "### 課題5（配点10％）\n",
    "データアナリティクスIIの莊司担当パートについて，良かった点および改善すべき点を記しなさい．"
   ]
  },
  {
   "cell_type": "markdown",
   "metadata": {
    "created_in_deepnote_cell": true,
    "deepnote_cell_type": "markdown"
   },
   "source": [
    "<a style='text-decoration:none;line-height:16px;display:flex;color:#5B5B62;padding:10px;justify-content:end;' href='https://deepnote.com?utm_source=created-in-deepnote-cell&projectId=8d5acf4c-ac83-4fd5-bcfe-ef009bd91aef' target=\"_blank\">\n",
    "<img alt='Created in deepnote.com' style='display:inline;max-height:16px;margin:0px;margin-right:7.5px;' src='data:image/svg+xml;base64,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' > </img>\n",
    "Created in <span style='font-weight:600;margin-left:4px;'>Deepnote</span></a>"
   ]
  }
 ],
 "metadata": {
  "colab": {
   "provenance": []
  },
  "deepnote": {},
  "deepnote_execution_queue": [],
  "deepnote_notebook_id": "dc1fa14005654473ae4c27f1f5a466d2",
  "kernelspec": {
   "display_name": "base",
   "language": "python",
   "name": "python3"
  },
  "language_info": {
   "codemirror_mode": {
    "name": "ipython",
    "version": 3
   },
   "file_extension": ".py",
   "mimetype": "text/x-python",
   "name": "python",
   "nbconvert_exporter": "python",
   "pygments_lexer": "ipython3",
   "version": "3.8.8"
  },
  "toc-autonumbering": false,
  "toc-showcode": false,
  "toc-showmarkdowntxt": false,
  "toc-showtags": false
 },
 "nbformat": 4,
 "nbformat_minor": 0
}
